{
 "cells": [
  {
   "cell_type": "markdown",
   "metadata": {},
   "source": [
    "<h3>Les opérateurs logiques</h3>\n",
    "<p>Les opérateurs logiques sont:</p>\n",
    "\n",
    "- and: la multiplication binaire, le ET logique\n",
    "- or : l'addition binaire, le OU logique\n",
    "- not: l'inversion binaire, le NON logique\n",
    "\n",
    "Exemples:"
   ]
  },
  {
   "cell_type": "code",
   "execution_count": 1,
   "metadata": {},
   "outputs": [
    {
     "name": "stdout",
     "output_type": "stream",
     "text": [
      "True\n"
     ]
    }
   ],
   "source": [
    "estVenu = True\n",
    "heureArrivee = 8\n",
    "estArriveATemps = estVenu and heureArrivee <= 8\n",
    "estMalade = False\n",
    "absentSansJustification = not(estVenu and (heureArrivee <= 8)) or (not estMalade)\n",
    "\n",
    "print(absentSansJustification)"
   ]
  },
  {
   "cell_type": "code",
   "execution_count": null,
   "metadata": {},
   "outputs": [],
   "source": []
  }
 ],
 "metadata": {
  "interpreter": {
   "hash": "ac59ebe37160ed0dfa835113d9b8498d9f09ceb179beaac4002f036b9467c963"
  },
  "kernelspec": {
   "display_name": "Python 3 (ipykernel)",
   "language": "python",
   "name": "python3"
  },
  "language_info": {
   "codemirror_mode": {
    "name": "ipython",
    "version": 3
   },
   "file_extension": ".py",
   "mimetype": "text/x-python",
   "name": "python",
   "nbconvert_exporter": "python",
   "pygments_lexer": "ipython3",
   "version": "3.9.7"
  }
 },
 "nbformat": 4,
 "nbformat_minor": 4
}
