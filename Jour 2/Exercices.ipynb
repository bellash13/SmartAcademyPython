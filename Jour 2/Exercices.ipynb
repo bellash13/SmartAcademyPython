{
 "cells": [
  {
   "cell_type": "markdown",
   "id": "08bc408e-55ee-426c-abad-2933afd94656",
   "metadata": {},
   "source": [
    "On propose de créer un mini programme, une calculatrice: Le programme fonctionne comme suit:\n",
    "\n",
    "\"Veuillez saisir un nombre\" et stocke cette valeur\n",
    "\"Veuillez choisir l'opération\" et stocke l'opération dans une variable\n",
    "\"Veuillez saisir le second nombre\" et stocke la valeur dans une variable\n",
    "Le programme affiche le résultat de l'opération choisie par l'utilisateur"
   ]
  },
  {
   "cell_type": "code",
   "execution_count": 2,
   "id": "be7c3f67-2209-42a5-8552-508b6a9be8f4",
   "metadata": {},
   "outputs": [
    {
     "name": "stdin",
     "output_type": "stream",
     "text": [
      "Veuillez saisir un nombre:  7\n",
      "Veuillez choisir l'opération 7\n",
      "Veuillez saisir le second nombre:  7\n"
     ]
    },
    {
     "name": "stdout",
     "output_type": "stream",
     "text": [
      "Opération inconnue.\n",
      "Merci davoir utilisé ce programme\n"
     ]
    }
   ],
   "source": [
    "while True:\n",
    "    #Veuillez saisir un nombre\n",
    "    nombre1 = float(input('Veuillez saisir un nombre: '))\n",
    "\n",
    "    #Veuillez choisir l'opération\n",
    "    operation = input(\"Veuillez choisir l'opération\")\n",
    "\n",
    "    #Veuillez saisir le second nombre\n",
    "    nombre2 = float(input('Veuillez saisir le second nombre: '))\n",
    "\n",
    "    #Le resultat du calcul est ...\n",
    "    if(operation == '+'):\n",
    "        print(f'Le resultat du calcul est {nombre1+nombre2}')\n",
    "    elif(operation == '-'):\n",
    "        print(f'Le resultat du calcul est {nombre1-nombre2}')\n",
    "    elif(operation == '/'):\n",
    "        print(f'Le resultat du calcul est {nombre1/nombre2}')\n",
    "    elif(operation == '*'):\n",
    "        print(f'Le resultat du calcul est {nombre1*nombre2}')\n",
    "    else:\n",
    "        print('Opération inconnue.')\n",
    "        break\n",
    "print(\"Merci davoir utilisé ce programme\")"
   ]
  },
  {
   "cell_type": "markdown",
   "id": "e01725b6-07bf-42c2-9e55-17cf4d0bb3d8",
   "metadata": {},
   "source": [
    "Exercice 2\n",
    "Nous nous proposons de concevoir un programme qui calcule le produit cartésien de deux listes <strong>liste1</strong> et <strong>liste2</strong> et stocke ce produit dans la variable nommée <strong>cartesien</strong>.\n",
    "NB: utiliser la boucle <strong>for</strong>"
   ]
  },
  {
   "cell_type": "code",
   "execution_count": 2,
   "id": "239d6752-0f84-433c-9c17-6061fb8d6331",
   "metadata": {},
   "outputs": [
    {
     "name": "stdout",
     "output_type": "stream",
     "text": [
      "[2, 4, 6, 8, 6, 12, 18, 24, 10, 20, 30, 40, 14, 28, 42, 56, 18, 36, 54, 72]\n",
      "[(1, 2), (1, 4), (1, 6), (1, 8), (3, 2), (3, 4), (3, 6), (3, 8), (5, 2), (5, 4), (5, 6), (5, 8), (7, 2), (7, 4), (7, 6), (7, 8), (9, 2), (9, 4), (9, 6), (9, 8)]\n"
     ]
    }
   ],
   "source": [
    "liste1 = (1,3,5,7,9)\n",
    "liste2 = (2,4,6,8)\n",
    "cartesiens= []\n",
    "produits = []\n",
    "\n",
    "for i in range(len(liste1)):\n",
    "    for j in range(len(liste2)):\n",
    "        \n",
    "        cartesien = (liste1[i], liste2[j])\n",
    "        cartesiens.append(cartesien)\n",
    "        \n",
    "        produit = liste1[i]*liste2[j]\n",
    "        produits.append(produit)\n",
    "\n",
    "print(produits)\n",
    "print(cartesiens)"
   ]
  },
  {
   "cell_type": "code",
   "execution_count": null,
   "id": "7f17256a-d0bb-4ce1-9fc7-dcc23d16840c",
   "metadata": {},
   "outputs": [],
   "source": []
  }
 ],
 "metadata": {
  "kernelspec": {
   "display_name": "Python 3 (ipykernel)",
   "language": "python",
   "name": "python3"
  },
  "language_info": {
   "codemirror_mode": {
    "name": "ipython",
    "version": 3
   },
   "file_extension": ".py",
   "mimetype": "text/x-python",
   "name": "python",
   "nbconvert_exporter": "python",
   "pygments_lexer": "ipython3",
   "version": "3.9.7"
  }
 },
 "nbformat": 4,
 "nbformat_minor": 5
}
