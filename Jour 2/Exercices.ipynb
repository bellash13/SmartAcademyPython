{
 "cells": [
  {
   "cell_type": "markdown",
   "id": "08bc408e-55ee-426c-abad-2933afd94656",
   "metadata": {},
   "source": [
    "On propose de créer un mini programme, une calculatrice: Le programme fonctionne comme suit:\n",
    "\n",
    "\"Veuillez saisir un nombre\" et stocke cette valeur\n",
    "\"Veuillez choisir l'opération\" et stocke l'opération dans une variable\n",
    "\"Veuillez saisir le second nombre\" et stocke la valeur dans une variable\n",
    "Le programme affiche le résultat de l'opération choisie par l'utilisateur"
   ]
  },
  {
   "cell_type": "code",
   "execution_count": 2,
   "id": "be7c3f67-2209-42a5-8552-508b6a9be8f4",
   "metadata": {},
   "outputs": [
    {
     "name": "stdin",
     "output_type": "stream",
     "text": [
      "Veuillez saisir un nombre:  7\n",
      "Veuillez choisir l'opération 7\n",
      "Veuillez saisir le second nombre:  7\n"
     ]
    },
    {
     "name": "stdout",
     "output_type": "stream",
     "text": [
      "Opération inconnue.\n",
      "Merci davoir utilisé ce programme\n"
     ]
    }
   ],
   "source": [
    "while True:\n",
    "    #Veuillez saisir un nombre\n",
    "    nombre1 = float(input('Veuillez saisir un nombre: '))\n",
    "\n",
    "    #Veuillez choisir l'opération\n",
    "    operation = input(\"Veuillez choisir l'opération\")\n",
    "\n",
    "    #Veuillez saisir le second nombre\n",
    "    nombre2 = float(input('Veuillez saisir le second nombre: '))\n",
    "\n",
    "    #Le resultat du calcul est ...\n",
    "    if(operation == '+'):\n",
    "        print(f'Le resultat du calcul est {nombre1+nombre2}')\n",
    "    elif(operation == '-'):\n",
    "        print(f'Le resultat du calcul est {nombre1-nombre2}')\n",
    "    elif(operation == '/'):\n",
    "        print(f'Le resultat du calcul est {nombre1/nombre2}')\n",
    "    elif(operation == '*'):\n",
    "        print(f'Le resultat du calcul est {nombre1*nombre2}')\n",
    "    else:\n",
    "        print('Opération inconnue.')\n",
    "        break\n",
    "print(\"Merci davoir utilisé ce programme\")"
   ]
  },
  {
   "cell_type": "code",
   "execution_count": null,
   "id": "f28e75e4-58b5-4a65-8dfe-4e1b4838266d",
   "metadata": {},
   "outputs": [],
   "source": []
  }
 ],
 "metadata": {
  "kernelspec": {
   "display_name": "Python 3 (ipykernel)",
   "language": "python",
   "name": "python3"
  },
  "language_info": {
   "codemirror_mode": {
    "name": "ipython",
    "version": 3
   },
   "file_extension": ".py",
   "mimetype": "text/x-python",
   "name": "python",
   "nbconvert_exporter": "python",
   "pygments_lexer": "ipython3",
   "version": "3.9.7"
  }
 },
 "nbformat": 4,
 "nbformat_minor": 5
}
