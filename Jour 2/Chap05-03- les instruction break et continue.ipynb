{
 "cells": [
  {
   "cell_type": "markdown",
   "metadata": {
    "tags": []
   },
   "source": [
    "<h3>Les instructions <strong>break</strong> et <strong>continue</strong></h3>\n",
    "<p>L'instruction <code>break</code> permet à tout moment qu'elle est appelée, à cesser d'exécuter les instructions contenues dans les boucles <code>for</code> et <code>while</code> et continuer à la fin de la boucle.\n",
    "</p>\n",
    "<p>L'instruction <code>continue</code> permet de sauter les instructions restantes et continuant en début de la boucle.</p>\n"
   ]
  },
  {
   "cell_type": "code",
   "execution_count": 10,
   "metadata": {},
   "outputs": [
    {
     "name": "stdout",
     "output_type": "stream",
     "text": [
      "nombre en cours 1\n",
      "1 est inférieur à 6\n",
      "nombre en cours 4\n",
      "4 est inférieur à 6\n",
      "nombre en cours 5\n",
      "5 est inférieur à 6\n",
      "nombre en cours 6\n",
      "nombre en cours 7\n",
      "nombre en cours 8\n",
      "nombre en cours 9\n",
      "nombre en cours 5\n",
      "5 est inférieur à 6\n",
      "nombre en cours 4\n",
      "4 est inférieur à 6\n",
      "nombre en cours 1\n",
      "1 est inférieur à 6\n",
      "Fin du programme.\n"
     ]
    }
   ],
   "source": [
    "nombres = (1, 4, 5, 6,7,8,9,5,4,1)\n",
    "monNombre = 6\n",
    "\n",
    "for nombre in nombres:\n",
    "    print(f'nombre en cours {nombre}')\n",
    "    if nombre >= monNombre:\n",
    "        continue\n",
    "    else:\n",
    "        print(f'{nombre} est inférieur à {monNombre}')\n",
    "print(f'Fin du programme.')"
   ]
  },
  {
   "cell_type": "markdown",
   "metadata": {},
   "source": [
    "<strong>Exercice:</strong> Remplacer <code>break</code> par <code>continue</code> dans le programme ci-dessus et commenter le résultat."
   ]
  },
  {
   "cell_type": "code",
   "execution_count": 11,
   "metadata": {},
   "outputs": [
    {
     "name": "stdout",
     "output_type": "stream",
     "text": [
      "nombre en cours 1\n",
      "1 est inférieur à 6\n",
      "nombre en cours 5\n",
      "5 est inférieur à 6\n",
      "nombre en cours 6\n",
      "nombre en cours 8\n",
      "nombre en cours 9\n",
      "nombre en cours 4\n",
      "4 est inférieur à 6\n",
      "nombre en cours 7\n",
      "Fin du programme.\n"
     ]
    }
   ],
   "source": [
    "nombres = [1,5,6,8,9,4,7]\n",
    "indice = 0\n",
    "monNombre = 6\n",
    "while indice < 7:\n",
    "    print(f'nombre en cours {nombres[indice]}')\n",
    "    if nombres[indice] >= monNombre:\n",
    "        indice += 1\n",
    "        continue\n",
    "    else:\n",
    "        print(f'{nombres[indice]} est inférieur à {monNombre}')\n",
    "        indice += 1\n",
    "print(f'Fin du programme.')"
   ]
  },
  {
   "cell_type": "markdown",
   "metadata": {},
   "source": [
    "On propose de créer un mini programme, une calculatrice:\n",
    "Le programme fonctionne comme suit:\n",
    "1. \"Veuillez saisir un nombre\" et stocke cette valeur\n",
    "2. \"Veuillez choisir l'opération\" et stocke l'opération dans une variable\n",
    "3. \"Veuillez saisir le second nombre\" et stocke la valeur dans une variable\n",
    "4. Le programme affiche le résultat de l'opération choisie par l'utilisateur\n"
   ]
  },
  {
   "cell_type": "code",
   "execution_count": 15,
   "metadata": {},
   "outputs": [
    {
     "name": "stdin",
     "output_type": "stream",
     "text": [
      "Veuillez saisir un nombre:  80\n",
      "Veuillez choisir l'opération *\n",
      "Veuillez saisir le second nombre:  4\n"
     ]
    },
    {
     "name": "stdout",
     "output_type": "stream",
     "text": [
      "Le resultat du calcul est 320.0\n"
     ]
    },
    {
     "name": "stdin",
     "output_type": "stream",
     "text": [
      "Veuillez saisir un nombre:  78\n",
      "Veuillez choisir l'opération ++\n",
      "Veuillez saisir le second nombre:  54\n"
     ]
    },
    {
     "name": "stdout",
     "output_type": "stream",
     "text": [
      "Opération inconnue.\n",
      "Merci davoir utilisé ce programme\n"
     ]
    }
   ],
   "source": [
    "while True:\n",
    "    #Veuillez saisir un nombre\n",
    "    nombre1 = float(input('Veuillez saisir un nombre: '))\n",
    "\n",
    "    #Veuillez choisir l'opération\n",
    "    operation = input(\"Veuillez choisir l'opération\")\n",
    "\n",
    "    #Veuillez saisir le second nombre\n",
    "    nombre2 = float(input('Veuillez saisir le second nombre: '))\n",
    "\n",
    "    #Le resultat du calcul est ...\n",
    "    if(operation == '+'):\n",
    "        print(f'Le resultat du calcul est {nombre1+nombre2}')\n",
    "    elif(operation == '-'):\n",
    "        print(f'Le resultat du calcul est {nombre1-nombre2}')\n",
    "    elif(operation == '/'):\n",
    "        print(f'Le resultat du calcul est {nombre1/nombre2}')\n",
    "    elif(operation == '*'):\n",
    "        print(f'Le resultat du calcul est {nombre1*nombre2}')\n",
    "    else:\n",
    "        print('Opération inconnue.')\n",
    "        break\n",
    "print(\"Merci davoir utilisé ce programme\")\n"
   ]
  },
  {
   "cell_type": "code",
   "execution_count": null,
   "metadata": {},
   "outputs": [],
   "source": []
  }
 ],
 "metadata": {
  "interpreter": {
   "hash": "ac59ebe37160ed0dfa835113d9b8498d9f09ceb179beaac4002f036b9467c963"
  },
  "kernelspec": {
   "display_name": "Python 3 (ipykernel)",
   "language": "python",
   "name": "python3"
  },
  "language_info": {
   "codemirror_mode": {
    "name": "ipython",
    "version": 3
   },
   "file_extension": ".py",
   "mimetype": "text/x-python",
   "name": "python",
   "nbconvert_exporter": "python",
   "pygments_lexer": "ipython3",
   "version": "3.9.7"
  }
 },
 "nbformat": 4,
 "nbformat_minor": 4
}
