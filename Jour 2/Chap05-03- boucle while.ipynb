{
 "cells": [
  {
   "cell_type": "markdown",
   "metadata": {},
   "source": [
    "<h3>La boucle <strong>while</strong></h3>\n",
    "<p>La boucle while permet d'exécuter un bloc de code tant que la condition qui est passée à cette boucle est vraie.</p>\n",
    "<p>N.B.:Il faut toujours prévoir que la condition passée à la boucle devienne fausse à l'intérieur de la boucle afin d'éviter la boucle infinie.</p>"
   ]
  },
  {
   "cell_type": "code",
   "execution_count": 4,
   "metadata": {},
   "outputs": [
    {
     "name": "stdout",
     "output_type": "stream",
     "text": [
      "Entrée interdite aux mineurs, vous avez 10 ans\n",
      "Entrée interdite aux mineurs, vous avez 11 ans\n",
      "Entrée interdite aux mineurs, vous avez 12 ans\n",
      "Entrée interdite aux mineurs, vous avez 13 ans\n",
      "Entrée interdite aux mineurs, vous avez 14 ans\n",
      "Entrée interdite aux mineurs, vous avez 15 ans\n",
      "Entrée interdite aux mineurs, vous avez 16 ans\n",
      "Entrée interdite aux mineurs, vous avez 17 ans\n",
      "Vous pouvez entrer au festival cette année. Vous avez eu vos 18 ans\n"
     ]
    }
   ],
   "source": [
    "ageUtilisateur = 10\n",
    "ageMajeur = 18\n",
    "while ageUtilisateur < ageMajeur:\n",
    "    print(f'Entrée interdite aux mineurs, vous avez {ageUtilisateur} ans')\n",
    "    ageUtilisateur +=1\n",
    "print(f'Vous pouvez entrer au festival cette année. Vous avez eu vos {ageMajeur} ans')"
   ]
  },
  {
   "cell_type": "code",
   "execution_count": 3,
   "metadata": {},
   "outputs": [
    {
     "name": "stdout",
     "output_type": "stream",
     "text": [
      "Vous etes mineur. 10\n",
      "Vous etes mineur. 11\n",
      "Vous etes mineur. 12\n",
      "Vous etes mineur. 13\n",
      "Vous etes mineur. 14\n",
      "Vous etes mineur. 15\n",
      "Vous etes mineur. 16\n",
      "Vous etes mineur. 17\n",
      "Felicitation! Vous avez grandi! 18\n"
     ]
    }
   ],
   "source": [
    "ageUtilisateur = 10\n",
    "ageAdult = 18\n",
    "while ageUtilisateur < ageAdult:\n",
    "    print(f'Vous etes mineur. {ageUtilisateur}')\n",
    "    ageUtilisateur +=1;\n",
    "print(f'Felicitation! Vous avez grandi! {ageUtilisateur}')"
   ]
  },
  {
   "cell_type": "code",
   "execution_count": null,
   "metadata": {},
   "outputs": [],
   "source": []
  }
 ],
 "metadata": {
  "interpreter": {
   "hash": "ac59ebe37160ed0dfa835113d9b8498d9f09ceb179beaac4002f036b9467c963"
  },
  "kernelspec": {
   "display_name": "Python 3 (ipykernel)",
   "language": "python",
   "name": "python3"
  },
  "language_info": {
   "codemirror_mode": {
    "name": "ipython",
    "version": 3
   },
   "file_extension": ".py",
   "mimetype": "text/x-python",
   "name": "python",
   "nbconvert_exporter": "python",
   "pygments_lexer": "ipython3",
   "version": "3.9.7"
  }
 },
 "nbformat": 4,
 "nbformat_minor": 4
}
