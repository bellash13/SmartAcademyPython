{
 "cells": [
  {
   "cell_type": "markdown",
   "metadata": {},
   "source": [
    "<h3>Les listes</h3>\n",
    "<p>En Python, la liste est un type d'objet pouvant contenir plusieurs objets de tout autre type. Voici comment se définit une liste en Python:</p>"
   ]
  },
  {
   "cell_type": "code",
   "execution_count": 9,
   "metadata": {},
   "outputs": [
    {
     "name": "stdout",
     "output_type": "stream",
     "text": [
      "Le 4e jour de la semaine est Jeudi\n"
     ]
    }
   ],
   "source": [
    "jours = ['Lundi', 'Mardi', 'Mercredi', 'Jeudi', \n",
    "         'Vendredi', 'Samedi', 'Dimanche'] \n",
    "\n",
    "print(f'Le 4e jour de la semaine est {jours[3]}')"
   ]
  },
  {
   "cell_type": "code",
   "execution_count": 19,
   "metadata": {},
   "outputs": [
    {
     "data": {
      "text/plain": [
       "['Mardi', 'Mercredi', 'Jeudi', 'Vendredi']"
      ]
     },
     "execution_count": 19,
     "metadata": {},
     "output_type": "execute_result"
    }
   ],
   "source": []
  },
  {
   "cell_type": "markdown",
   "metadata": {},
   "source": [
    "<strong>Intervalle</strong>\n",
    "<p>La fonction <code>range()</code> permet de créer une liste d'élément partant d'un élément à un autre suivant l'intervalle précis.</p>"
   ]
  },
  {
   "cell_type": "code",
   "execution_count": 2,
   "metadata": {},
   "outputs": [
    {
     "name": "stdout",
     "output_type": "stream",
     "text": [
      "Les éléments de mon intervalle sont [0, 2, 4, 6, 8, 10, 12, 14, 16, 18]\n"
     ]
    }
   ],
   "source": [
    "intervalle = range(0, 20, 2) #définit un intervalle d'élément allant de 0 inclus à 20 exclus, avec une raison de 2 pas\n",
    "print(f'Les éléments de mon intervalle sont {list(intervalle)}')"
   ]
  },
  {
   "cell_type": "markdown",
   "metadata": {},
   "source": [
    "Vous pouvez accéder au N-ième élément d'une liste en précisant l'indice numérique N-1. Comme dans l'exemple ci-dessus, nous avons pu accéder le 4e jour de la semaine grâce à l'indice 3. Rappel: <code>jours[3]</code> affiche <code>Jeudi</code>"
   ]
  },
  {
   "cell_type": "markdown",
   "metadata": {},
   "source": [
    "Notez que l'indice peut être un entier inférieur à zéro; dans ce cas, le comptable commence par le dernier élément. Voici quelques exemples:\n",
    "- <code>jours[-1]</code> affiche <code>Dimanche</code> car il est le dernier élément, soit premier élément en partant de la droite à la gauche.\n",
    "- <code>jours[-2]</code> affiche <code>Samedi</code>, soit deuxième élément en comptant de droite à gauche\n",
    "\n",
    "Illustration"
   ]
  },
  {
   "cell_type": "code",
   "execution_count": 3,
   "metadata": {},
   "outputs": [
    {
     "data": {
      "text/plain": [
       "['Lundi', 'Mardi', 'Mercredi', 'Jeudi', 'Vendredi', 'Samedi']"
      ]
     },
     "execution_count": 3,
     "metadata": {},
     "output_type": "execute_result"
    }
   ],
   "source": [
    "jours[-1]\n",
    "jours[-2]\n",
    "jours[0:-1]"
   ]
  },
  {
   "cell_type": "markdown",
   "metadata": {},
   "source": [
    "<strong>N.B</strong>: Vous pouvez également utiliser les indices numériques sous forme d'intervalle, séparés par deux points. Dans ce cas les éléments pris en compte seront ceux compris entre les indices. Voici un exemple:"
   ]
  },
  {
   "cell_type": "code",
   "execution_count": 4,
   "metadata": {},
   "outputs": [
    {
     "data": {
      "text/plain": [
       "['Lundi', 'Mardi', 'Mercredi', 'Jeudi', 'Vendredi']"
      ]
     },
     "execution_count": 4,
     "metadata": {},
     "output_type": "execute_result"
    }
   ],
   "source": [
    "jours[0:2] #Lundi, Mardi\n",
    "jours[2:4] #Mercredi, Jeudi\n",
    "jours[0:-2] #Lundi, Mardi, Mercredi, Jeudi, Vendredi"
   ]
  },
  {
   "cell_type": "markdown",
   "metadata": {},
   "source": [
    "Vous pouvez vérifier l'existence d'un élément dans une liste grâce à l'opérateur <code>in</code>. Celui-ci retournera un booléen <code>True</code> si l'élément est dans la liste et <code>False</code> au cas contraire."
   ]
  },
  {
   "cell_type": "code",
   "execution_count": 22,
   "metadata": {},
   "outputs": [
    {
     "name": "stdout",
     "output_type": "stream",
     "text": [
      "est présent False\n"
     ]
    }
   ],
   "source": []
  },
  {
   "cell_type": "code",
   "execution_count": 23,
   "metadata": {},
   "outputs": [
    {
     "data": {
      "text/plain": [
       "False"
      ]
     },
     "execution_count": 23,
     "metadata": {},
     "output_type": "execute_result"
    }
   ],
   "source": [
    "'Lundi' in jours #True\n",
    "'Mon jour préféré' in jours #False"
   ]
  },
  {
   "cell_type": "code",
   "execution_count": 6,
   "metadata": {},
   "outputs": [],
   "source": [
    "joursOuvrables = ['Lundi', 'Mardi', 'Mercredi', 'Jeudi', 'Vendredi']\n",
    "fruits = ['Orange', 'Mangue', 'Avocat', 'Pomme', 'Banane']\n",
    "apprenant = ['Hervé', 'Mvwezolo', 14, 4.85, (1,3,5,7,9)]"
   ]
  },
  {
   "cell_type": "markdown",
   "metadata": {},
   "source": [
    "Dans le code ci-dessus, vous pouvez accéder au dernier jour ouvrable en utilisant l'indice -1.\n",
    "\n",
    "Vous pouvez vérifier si le fruit 'Fraise' est contenu dans la liste des fruits en utilisant l'instruction <code> 'Fraise' in fruits</code> Ceci retournera <code>False</code> car la chaine <code>'Fraise'</code> ne se retrouve pas dans la liste des fruits définis dans la liste."
   ]
  },
  {
   "cell_type": "markdown",
   "metadata": {},
   "source": [
    "<strong>Les tuples et les ensembles</strong>"
   ]
  },
  {
   "cell_type": "markdown",
   "metadata": {},
   "source": [
    "<p>Les tuples sont des listes immutables, c'est à dire que leur contenu ne peut pas être changés par une fonction. Voici omment définir un tuple.</p>"
   ]
  },
  {
   "cell_type": "code",
   "execution_count": 7,
   "metadata": {},
   "outputs": [
    {
     "name": "stdout",
     "output_type": "stream",
     "text": [
      "Les chiffres dans le tuple sont: (1, 3, 5, 7, 9, 9)\n",
      "Les chiffres impairs sont: {1, 3, 5, 7, 9}\n"
     ]
    }
   ],
   "source": [
    "\n",
    " #Définition d'un tuple\n",
    "chiffres = (1,3,5,7,9,9)\n",
    "\n",
    "#Définition d'un ensemble. Ne contient que des éléments uniques\n",
    "chiffresImpairs = set(chiffres) \n",
    "\n",
    "print(f'Les chiffres dans le tuple sont: {chiffres}')\n",
    "print(f'Les chiffres impairs sont: {chiffresImpairs}')"
   ]
  },
  {
   "cell_type": "markdown",
   "metadata": {},
   "source": [
    "<p>Toutes les notions apprises sur les listes, à l'exception de l'immutabilité, s'appliquent aussi aux tuples.</p>\n",
    "<p>Déterminer l'indice d'un élément dans une liste, ou un tuple</p>"
   ]
  },
  {
   "cell_type": "code",
   "execution_count": 8,
   "metadata": {},
   "outputs": [
    {
     "data": {
      "text/plain": [
       "2"
      ]
     },
     "execution_count": 8,
     "metadata": {},
     "output_type": "execute_result"
    }
   ],
   "source": [
    "chiffresMagics = [1, 48, 6, 2, 10]\n",
    "chiffresMagics.index(48) #retourne 1\n",
    "\n",
    "maTuple = (5, 10, 8, 45)\n",
    "maTuple.index(8) #retourner 2"
   ]
  }
 ],
 "metadata": {
  "interpreter": {
   "hash": "ac59ebe37160ed0dfa835113d9b8498d9f09ceb179beaac4002f036b9467c963"
  },
  "kernelspec": {
   "display_name": "Python 3 (ipykernel)",
   "language": "python",
   "name": "python3"
  },
  "language_info": {
   "codemirror_mode": {
    "name": "ipython",
    "version": 3
   },
   "file_extension": ".py",
   "mimetype": "text/x-python",
   "name": "python",
   "nbconvert_exporter": "python",
   "pygments_lexer": "ipython3",
   "version": "3.9.7"
  }
 },
 "nbformat": 4,
 "nbformat_minor": 4
}
