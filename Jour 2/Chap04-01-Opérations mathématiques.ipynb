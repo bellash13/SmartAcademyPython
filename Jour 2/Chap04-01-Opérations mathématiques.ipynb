{
 "cells": [
  {
   "cell_type": "markdown",
   "metadata": {},
   "source": [
    "<h1>Chap 4.\tLes opérateurs arithmétiques et logiques</h1>"
   ]
  },
  {
   "cell_type": "markdown",
   "metadata": {},
   "source": [
    "<h3>Les opérateurs arithmétiques</h3>\n",
    "\n",
    "<ul style='list-style:none'>\n",
    "<li>+ Addition</li>\n",
    "<li>- Soustraction</li>\n",
    "<li>* Multiplication</li>\n",
    "<li>/ Division qui retourne un nombre à virgule, <code>float</code> </li>\n",
    "<li>// Division qui retourne un entier <code>int</code></li>\n",
    "<li>% Modulo, retourne le reste de la division</li>\n",
    "<li>** L'exponentiation, <code>n1 ** n2</code> retourne la valeur de <code>n1</code> exposant <code>n2</code>.</li>\n",
    "</ul>"
   ]
  },
  {
   "cell_type": "markdown",
   "metadata": {},
   "source": [
    "Vous pouvez utiliser ces opérations pour éffectuer une assignation sur la valeur en cours actuelle de la variable commme suite:"
   ]
  },
  {
   "cell_type": "code",
   "execution_count": null,
   "metadata": {
    "tags": []
   },
   "outputs": [],
   "source": []
  },
  {
   "cell_type": "code",
   "execution_count": 1,
   "metadata": {},
   "outputs": [],
   "source": [
    "age = 34\n",
    "age += 1 #age devient 35 car il a été incrémenté.\n",
    "age -= 1 #age redevient 34 car il a été décrémenté.\n",
    "\n",
    "nombre = 2\n",
    "nombre *= 5 #nombre devient 10 car 2*5 = 10.\n"
   ]
  }
 ],
 "metadata": {
  "interpreter": {
   "hash": "ac59ebe37160ed0dfa835113d9b8498d9f09ceb179beaac4002f036b9467c963"
  },
  "kernelspec": {
   "display_name": "Python 3 (ipykernel)",
   "language": "python",
   "name": "python3"
  },
  "language_info": {
   "codemirror_mode": {
    "name": "ipython",
    "version": 3
   },
   "file_extension": ".py",
   "mimetype": "text/x-python",
   "name": "python",
   "nbconvert_exporter": "python",
   "pygments_lexer": "ipython3",
   "version": "3.9.7"
  }
 },
 "nbformat": 4,
 "nbformat_minor": 4
}
