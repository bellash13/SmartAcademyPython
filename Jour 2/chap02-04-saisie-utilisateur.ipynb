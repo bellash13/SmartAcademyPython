{
 "cells": [
  {
   "cell_type": "markdown",
   "metadata": {},
   "source": [
    "<h3>Capturer un texte saisi par l'utilisateur</h3>\n",
    "<p>Nous nous proposons d'écrire un programme qui demande et stocke le nom de l'utilisateur, l'âge de l'utilisateur et stocke une valeur qui renseigne si l'utilisateur est majeur ou non. Par la suite nous afficherons un message de salutation à cet utilisateur, son âge ainsi que sa majorité.</p>\n",
    "<p>Voici comment se présente notre programme</p>"
   ]
  },
  {
   "cell_type": "code",
   "execution_count": 3,
   "metadata": {},
   "outputs": [
    {
     "name": "stdin",
     "output_type": "stream",
     "text": [
      "Veuillez saisir votre nom:  Hippo\n",
      "Veuillez saisir votre age:  15\n"
     ]
    },
    {
     "name": "stdout",
     "output_type": "stream",
     "text": [
      "Bonjour Hippo\n",
      "vous avez 15 ans\n",
      "Etes-vous majeur? False\n"
     ]
    }
   ],
   "source": [
    "nom = input(\"Veuillez saisir votre nom: \")\n",
    "age = int(input(\"Veuillez saisir votre age: \"))\n",
    "estMajeur = age >= 18\n",
    "\n",
    "print(f'Bonjour {nom}')\n",
    "print(f'vous avez {age} ans')\n",
    "print(f'Etes-vous majeur? {estMajeur}')"
   ]
  },
  {
   "cell_type": "markdown",
   "metadata": {},
   "source": [
    "<p>Noter l'utilisation de la fonction <code>input()</code> avec le texte à afficher à l'utilisateur pour lui demander son nom. Cette fonction affichera le message placé entre parenthèses et guillements, ensuite stockera la valeur tapée par l'utilisateur dans la variable <code>nom</code> pour une utilisateur ultérieure dans le programme.</p>\n",
    "<p>Autre détail à noter, l'utilisation de la fonction <code>int()</code> qui enveloppe la fonction <code>input()</code> sur la deuxième ligne du programme; il s'agit d'une conversion de texte saisi par l'utilisateur en nombre, car l'age est un nombre et non un texte. Nous verrons ceci en détail au point suivant, sur la <em>conversion des types des variables</em>.</p>"
   ]
  },
  {
   "cell_type": "markdown",
   "metadata": {},
   "source": [
    "NB: si l'utilisateur saisit un texte à la place de l'age, Python va vous générer une erreur comme quoi le texte saisi n'est pas un nombre; en programmation, on appelle cela une <strong><em>exception</em></strong>; nous apprendrons plus tard comment gérer les exceptions, afin de rester à l'abri des erreurs dans des cas pareils."
   ]
  }
 ],
 "metadata": {
  "interpreter": {
   "hash": "7a542ca580817fc4dd55327026e074e2fa0cd470fc5dee9350c2d8b13822db8d"
  },
  "kernelspec": {
   "display_name": "Python 3 (ipykernel)",
   "language": "python",
   "name": "python3"
  },
  "language_info": {
   "codemirror_mode": {
    "name": "ipython",
    "version": 3
   },
   "file_extension": ".py",
   "mimetype": "text/x-python",
   "name": "python",
   "nbconvert_exporter": "python",
   "pygments_lexer": "ipython3",
   "version": "3.9.7"
  }
 },
 "nbformat": 4,
 "nbformat_minor": 4
}
