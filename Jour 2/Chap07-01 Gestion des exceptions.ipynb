{
 "cells": [
  {
   "cell_type": "markdown",
   "metadata": {},
   "source": [
    "<h1>Chap 7.\tAutres notions importantes</h1>\n",
    "<p>Voici quelques notions importantes à maitriser.</p>\n",
    "<h3>-\tGestion des exceptions</h3>"
   ]
  },
  {
   "cell_type": "code",
   "execution_count": 1,
   "metadata": {},
   "outputs": [
    {
     "name": "stdout",
     "output_type": "stream",
     "text": [
      "Vous n'avez pas saisi un age valide.\n"
     ]
    }
   ],
   "source": [
    "try:\n",
    "    age = int(input(\"Veuillez taper votre age: \"))\n",
    "    print(f'Votre age est {age}')\n",
    "except ValueError:   \n",
    "    print(\"Vous n'avez pas saisi un age valide.\")\n",
    "except:   \n",
    "    print(\"Une erreur inattendue est survenue.\")\n"
   ]
  }
 ],
 "metadata": {
  "interpreter": {
   "hash": "ac59ebe37160ed0dfa835113d9b8498d9f09ceb179beaac4002f036b9467c963"
  },
  "kernelspec": {
   "display_name": "Python 3 (ipykernel)",
   "language": "python",
   "name": "python3"
  },
  "language_info": {
   "codemirror_mode": {
    "name": "ipython",
    "version": 3
   },
   "file_extension": ".py",
   "mimetype": "text/x-python",
   "name": "python",
   "nbconvert_exporter": "python",
   "pygments_lexer": "ipython3",
   "version": "3.9.7"
  }
 },
 "nbformat": 4,
 "nbformat_minor": 4
}
