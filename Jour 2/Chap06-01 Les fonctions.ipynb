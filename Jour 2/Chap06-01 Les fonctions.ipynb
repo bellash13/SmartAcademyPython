{
 "cells": [
  {
   "cell_type": "markdown",
   "metadata": {},
   "source": [
    "<h1>Chap 6. Les fonctions</h1>\n",
    "<h3>Définition d’une fonction Python</h3>"
   ]
  },
  {
   "cell_type": "code",
   "execution_count": null,
   "metadata": {},
   "outputs": [],
   "source": [
    "def direBonjour():\n",
    "    print(f'Bonjour!')\n",
    "\n",
    "direBonjour()"
   ]
  },
  {
   "cell_type": "markdown",
   "metadata": {},
   "source": [
    "<h3>L’instruction return</h3>"
   ]
  },
  {
   "cell_type": "code",
   "execution_count": 5,
   "metadata": {},
   "outputs": [
    {
     "name": "stdout",
     "output_type": "stream",
     "text": [
      "Bonjour!\n"
     ]
    }
   ],
   "source": [
    "def direBonjour():\n",
    "    return f'Bonjour!'\n",
    "\n",
    "salutation = direBonjour()\n",
    "print(salutation)"
   ]
  },
  {
   "cell_type": "markdown",
   "metadata": {},
   "source": [
    "<h3>Les paramètres d’une fonction</h3>\n",
    "<p>L'ordre compte</p>"
   ]
  },
  {
   "cell_type": "code",
   "execution_count": 7,
   "metadata": {},
   "outputs": [
    {
     "name": "stdout",
     "output_type": "stream",
     "text": [
      "Bonjour Stéphane Kuyikama\n",
      "Vous êtes adulte, vous pouvez entrer au festival\n"
     ]
    }
   ],
   "source": [
    "def direBonjour(nom, age):\n",
    "    print(f'Bonjour {nom}')\n",
    "    if age >= 18:\n",
    "        print(f'Vous êtes adulte, vous pouvez entrer au festival')\n",
    "    else:\n",
    "        print(f'Accès interdit aux mineurs. Faites-vous accompagner d\\'un adulte svp.')\n",
    "\n",
    "direBonjour('Stéphane Kuyikama', 24)"
   ]
  },
  {
   "cell_type": "markdown",
   "metadata": {},
   "source": [
    "<h3>Les paramètres avec valeurs initiales</h3>"
   ]
  },
  {
   "cell_type": "code",
   "execution_count": 2,
   "metadata": {},
   "outputs": [
    {
     "name": "stdout",
     "output_type": "stream",
     "text": [
      "Bonjour Marc Mangi, vous avez 18 ans\n",
      "Bonjour Moise Shamba, vous avez 30 ans\n",
      "Bonjour Brayahn, vous avez 10 ans\n"
     ]
    }
   ],
   "source": [
    "def direBonjour(nom='Theodor', age = 18):\n",
    "    return f'Bonjour {nom}, vous avez {age} ans'\n",
    "\n",
    "message = direBonjour('Marc Mangi')\n",
    "message2 = direBonjour('Moise Shamba', 30)\n",
    "message3 = direBonjour( age = 3, nom='Brayahn')\n",
    "print(message)\n",
    "print(message2)\n",
    "print(message3)"
   ]
  },
  {
   "cell_type": "markdown",
   "metadata": {},
   "source": [
    "<h3>Les paramètres magiques <strong>*args</strong> et <strong>*kwargs</strong></h3>"
   ]
  },
  {
   "cell_type": "code",
   "execution_count": 7,
   "metadata": {},
   "outputs": [
    {
     "name": "stdout",
     "output_type": "stream",
     "text": [
      "Somme = 16\n"
     ]
    }
   ],
   "source": [
    "def somme(*args):\n",
    "    s = 0\n",
    "    for nombre in args:\n",
    "        s += nombre\n",
    "    print(f'Somme = {s}')\n",
    "\n",
    "somme(1, 6, 9)\n"
   ]
  },
  {
   "cell_type": "code",
   "execution_count": 9,
   "metadata": {},
   "outputs": [
    {
     "name": "stdout",
     "output_type": "stream",
     "text": [
      "a = 1, b = 6, c = 9\n"
     ]
    }
   ],
   "source": [
    "def somme(**kwargs):\n",
    "    print(f\"a = {kwargs['a']}, b = {kwargs['b']}, c = {kwargs['c']}\")\n",
    "\n",
    "somme(b=6, a=1, c=9)\n"
   ]
  }
 ],
 "metadata": {
  "interpreter": {
   "hash": "ac59ebe37160ed0dfa835113d9b8498d9f09ceb179beaac4002f036b9467c963"
  },
  "kernelspec": {
   "display_name": "Python 3 (ipykernel)",
   "language": "python",
   "name": "python3"
  },
  "language_info": {
   "codemirror_mode": {
    "name": "ipython",
    "version": 3
   },
   "file_extension": ".py",
   "mimetype": "text/x-python",
   "name": "python",
   "nbconvert_exporter": "python",
   "pygments_lexer": "ipython3",
   "version": "3.9.7"
  }
 },
 "nbformat": 4,
 "nbformat_minor": 4
}
