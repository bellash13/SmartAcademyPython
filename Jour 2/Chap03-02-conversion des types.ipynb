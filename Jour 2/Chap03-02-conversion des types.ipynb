{
 "cells": [
  {
   "cell_type": "markdown",
   "metadata": {},
   "source": [
    "<h3>Conversion des types</h3>\n",
    "<p>Python définit plusieurs types des variable suivant la nature des valeurs que peuvent contenir une variable.</p>\n",
    "<p>Le tableau ci-dessous indique comment forcer Python à convertir d'un type de variable à un autre.</p>\n",
    "\n",
    "<stong>Tableau de conversion de types</stong>\n",
    "<table>\n",
    "      <tr>\n",
    "           <th>Appellation</th>\n",
    "           <td>Entiers relatifs</td>\n",
    "           <td>Chaine des caractères</td>\n",
    "           <td>Nombre à virgule</td>\n",
    "           <td>Booléen</td>\n",
    "      </tr>\n",
    "      <tr>\n",
    "           <th>Type</th>\n",
    "           <td>int</td>\n",
    "           <td>string</td>\n",
    "           <td>float</td>\n",
    "           <td>bool</td>\n",
    "      </tr>\n",
    "      <tr>\n",
    "           <th>Fonction</th>\n",
    "           <td>int()</td>\n",
    "           <td>str()</td>\n",
    "           <td>float()</td>\n",
    "           <td>bool()</td>\n",
    "      </tr>\n",
    "</table>\n",
    "\n",
    "<p>Il est à noter que toutes ces fonctions réussissent à convertir de type uniquement lorsque la valeur contenu dans la variable à convertir est compatible avec le type de variable convertie. La fonction <str>str()</str> et la fonction <code>bool()</code> réussissent toujours.</p>\n",
    "<p>Le programme ci-dessous explique en commentaire les conversions valides et invalides</p>"
   ]
  },
  {
   "cell_type": "markdown",
   "metadata": {},
   "source": [
    "<p>Lorsque le programme rencontre des lignes des textes entre les trois guillemets simples <code>'''</code> et <code>'''</code> il les ignore à l'exécution: il l'utilise pour la documentation du code.</p>\n",
    "<p>Une autre façon de commenter le code sur une seule ligne est d'utiliser le caractère <code>#</code> suivi du commentaire comme nous l'avons fait sur la ligne </p>"
   ]
  },
  {
   "cell_type": "code",
   "execution_count": 5,
   "metadata": {},
   "outputs": [
    {
     "name": "stdout",
     "output_type": "stream",
     "text": [
      "1\n"
     ]
    }
   ],
   "source": [
    "monAge = int(34) #conversion correcte et naturelle.\n",
    "ageUtilisateur = int('34') #correcte car la chaine contient un entier\n",
    "estMajeur = ageUtilisateur >= 18\n",
    "\n",
    "age = int(estMajeur) #valide car estMajeur est une variable booléenne\n",
    "print(age)"
   ]
  },
  {
   "cell_type": "code",
   "execution_count": 8,
   "metadata": {},
   "outputs": [
    {
     "name": "stdout",
     "output_type": "stream",
     "text": [
      "1\n"
     ]
    }
   ],
   "source": [
    "ageBebe = int(True) #valide: un booléen est converti à l'entier 1 s'il est TRUE\n",
    "print(ageBebe)"
   ]
  },
  {
   "cell_type": "code",
   "execution_count": 9,
   "metadata": {},
   "outputs": [
    {
     "name": "stdout",
     "output_type": "stream",
     "text": [
      "2\n"
     ]
    }
   ],
   "source": [
    "ageNourrison = int(False) #valide: ageNourrisson sera 0\n",
    "age = int(2.8) #valide et convertira à 2\n",
    "print(age)"
   ]
  },
  {
   "cell_type": "code",
   "execution_count": null,
   "metadata": {},
   "outputs": [],
   "source": [
    "\n",
    " #les conversions qui é#chouent\n",
    "montant = int('2.8') #invalide car la chaine contien un point qui fait que la chaine ne soit pas u#n nombre\n",
    "total = int('240,4') #invalide car la chaine contien un#e virgule\n",
    "age = int('estMajeur') #invalide car la chaine 'estMajeur' ne contient pas un nombre\n"
   ]
  },
  {
   "cell_type": "code",
   "execution_count": 12,
   "metadata": {},
   "outputs": [
    {
     "name": "stdout",
     "output_type": "stream",
     "text": [
      "le prix est 1.0\n"
     ]
    }
   ],
   "source": [
    "prix = float(5.5) #conversion correcte et naturelle\n",
    "prix = float('7.86') #conversion correcte car la chaine contient un nombre avec un point\n",
    "prix = float(5) #conversion correcte car le type int est contenu dans le type float\n",
    "prix = float(False) #valide\n",
    "prix = float(True) #valide\n",
    "\n",
    "print(f'le prix est {prix}')"
   ]
  },
  {
   "cell_type": "code",
   "execution_count": null,
   "metadata": {},
   "outputs": [],
   "source": [
    "#Les conversions qui échouent\n",
    "prix = float('False') #conversion invalide car la chaine ne contient pas un nombre\n",
    "prix = float('7,86') #conversion invalide car la chaine contient une virgule"
   ]
  },
  {
   "cell_type": "code",
   "execution_count": 14,
   "metadata": {},
   "outputs": [
    {
     "name": "stdout",
     "output_type": "stream",
     "text": [
      "Vingt est 20. faux est False. Vrai est True\n"
     ]
    }
   ],
   "source": [
    "vingt = str(20) #cette fonction de conversion réussit toujours\n",
    "faux = str(False) #cette fonction de conversion réussit toujours. La valeur sera 'False'\n",
    "vrai = str(True) #cette fonction de conversion réussit toujours. La valeur sera 'True'\n",
    "\n",
    "print(f'Vingt est {vingt}. faux est {faux}. Vrai est {vrai}')"
   ]
  },
  {
   "cell_type": "code",
   "execution_count": 5,
   "metadata": {},
   "outputs": [],
   "source": [
    "vrai = bool(True) #conversion valide et naturelle. True\n",
    "nombreVrai = bool(241) #convertira à True\n",
    "nombreFaux = bool(0) #convertira à False\n",
    "bonPrix = bool(12.38)  #convertira à True\n",
    "fautPrix = bool(0.0) #convertira à False car 0\n",
    "toujoursVrai = bool('ok')  #convertira à True car la chaine est non vide\n",
    "vide = bool('') #convertira à False car la chaine est vide\n",
    "unFauxVrai = bool('False')  #convertira à True car la chaine est non vide\n",
    "estVide = bool('') == False #sera True car la conversion bool('') est False et False==False donne True\n",
    "estEncoreVide = not bool('') #sera True car non False égale True\n"
   ]
  },
  {
   "cell_type": "code",
   "execution_count": null,
   "metadata": {},
   "outputs": [],
   "source": []
  }
 ],
 "metadata": {
  "interpreter": {
   "hash": "ac59ebe37160ed0dfa835113d9b8498d9f09ceb179beaac4002f036b9467c963"
  },
  "kernelspec": {
   "display_name": "Python 3 (ipykernel)",
   "language": "python",
   "name": "python3"
  },
  "language_info": {
   "codemirror_mode": {
    "name": "ipython",
    "version": 3
   },
   "file_extension": ".py",
   "mimetype": "text/x-python",
   "name": "python",
   "nbconvert_exporter": "python",
   "pygments_lexer": "ipython3",
   "version": "3.9.7"
  }
 },
 "nbformat": 4,
 "nbformat_minor": 4
}
