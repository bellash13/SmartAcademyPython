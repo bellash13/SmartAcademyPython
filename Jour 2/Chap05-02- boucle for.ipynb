{
 "cells": [
  {
   "cell_type": "markdown",
   "metadata": {},
   "source": [
    "<h3>La boucle <strong>for</strong></h3>"
   ]
  },
  {
   "cell_type": "code",
   "execution_count": 1,
   "metadata": {},
   "outputs": [
    {
     "name": "stdout",
     "output_type": "stream",
     "text": [
      "Aujourd'hui est Lundi\n",
      "Aujourd'hui est Mardi\n",
      "Aujourd'hui est Mercredi\n",
      "Aujourd'hui est Jeudi\n",
      "Aujourd'hui est Vendredi\n",
      "Aujourd'hui est Samedi\n",
      "Aujourd'hui est Dimanche\n"
     ]
    }
   ],
   "source": [
    "jours = ['Lundi', 'Mardi', 'Mercredi', 'Jeudi', \n",
    "         'Vendredi','Samedi', 'Dimanche']\n",
    "\n",
    "for jour in jours:\n",
    "    print(f'Aujourd\\'hui est {jour}')"
   ]
  },
  {
   "cell_type": "code",
   "execution_count": 12,
   "metadata": {},
   "outputs": [
    {
     "name": "stdout",
     "output_type": "stream",
     "text": [
      "0\n",
      "2\n",
      "4\n",
      "6\n",
      "8\n",
      "10\n",
      "12\n",
      "14\n",
      "16\n",
      "18\n"
     ]
    }
   ],
   "source": [
    "for i in range(0, 20, 2):\n",
    "    print(i)"
   ]
  },
  {
   "cell_type": "markdown",
   "metadata": {},
   "source": [
    "Voici un programme pour afficher les nombres pairs et impairs contenus dans un tuple, grâce à la boucle <code>for</code>"
   ]
  },
  {
   "cell_type": "code",
   "execution_count": 13,
   "metadata": {},
   "outputs": [
    {
     "name": "stdout",
     "output_type": "stream",
     "text": [
      "10 est pair\n",
      "20 est pair\n",
      "30 est pair\n",
      "5 est impair\n",
      "17 est impair\n",
      "20 est pair\n",
      "25 est impair\n"
     ]
    }
   ],
   "source": [
    "nombres = (10, 20, 30, 5, 17, 20, 25)\n",
    "for nombre in nombres:  \n",
    "    if nombre%2 == 0:\n",
    "        print(f'{nombre} est pair')\n",
    "    else:\n",
    "        print(f'{nombre} est impair')"
   ]
  }
 ],
 "metadata": {
  "interpreter": {
   "hash": "ac59ebe37160ed0dfa835113d9b8498d9f09ceb179beaac4002f036b9467c963"
  },
  "kernelspec": {
   "display_name": "Python 3 (ipykernel)",
   "language": "python",
   "name": "python3"
  },
  "language_info": {
   "codemirror_mode": {
    "name": "ipython",
    "version": 3
   },
   "file_extension": ".py",
   "mimetype": "text/x-python",
   "name": "python",
   "nbconvert_exporter": "python",
   "pygments_lexer": "ipython3",
   "version": "3.9.7"
  }
 },
 "nbformat": 4,
 "nbformat_minor": 4
}
