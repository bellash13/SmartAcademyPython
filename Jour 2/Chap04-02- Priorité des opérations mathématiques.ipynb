{
 "cells": [
  {
   "cell_type": "markdown",
   "metadata": {},
   "source": [
    "<h3>Priorités des opérateurs</h3>\n",
    "<p>Les opérations mathématiques suivent l'ordre de priorité ci-dessous:</p>\n",
    "\n",
    "1. Les paranthèses\n",
    "2. Les exposants\n",
    "3. La multiplication ou la division\n",
    "4. L'addition ou la multiplication\n",
    "\n",
    "<p>Quelques exemples:</p>"
   ]
  },
  {
   "cell_type": "code",
   "execution_count": 1,
   "metadata": {},
   "outputs": [
    {
     "data": {
      "text/plain": [
       "13.0"
      ]
     },
     "execution_count": 1,
     "metadata": {},
     "output_type": "execute_result"
    }
   ],
   "source": [
    "x = 4\n",
    "y = 2\n",
    "a = 3\n",
    "b = 5\n",
    "\n",
    "z = a + b * x / y  #b*x = 20 et (b*x)/y = 20/2=10 ensuite 3+((b*x)/y) = 3+10 = 13\n",
    "z"
   ]
  },
  {
   "cell_type": "markdown",
   "metadata": {},
   "source": [
    "Utiliser les paranthèses svp!"
   ]
  }
 ],
 "metadata": {
  "interpreter": {
   "hash": "ac59ebe37160ed0dfa835113d9b8498d9f09ceb179beaac4002f036b9467c963"
  },
  "kernelspec": {
   "display_name": "Python 3 (ipykernel)",
   "language": "python",
   "name": "python3"
  },
  "language_info": {
   "codemirror_mode": {
    "name": "ipython",
    "version": 3
   },
   "file_extension": ".py",
   "mimetype": "text/x-python",
   "name": "python",
   "nbconvert_exporter": "python",
   "pygments_lexer": "ipython3",
   "version": "3.9.7"
  }
 },
 "nbformat": 4,
 "nbformat_minor": 4
}
