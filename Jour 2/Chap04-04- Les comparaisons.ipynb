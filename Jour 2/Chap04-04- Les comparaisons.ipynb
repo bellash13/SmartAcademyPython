{
 "cells": [
  {
   "cell_type": "markdown",
   "metadata": {},
   "source": [
    "<h3>Les comparaisons</h3>\n",
    "<p>Les opérateurs de comparaison retournent un booléen (<code>True</code> si le prédicat est vrai et <code>False</code> en cas de fausseté).</p>"
   ]
  },
  {
   "cell_type": "code",
   "execution_count": 1,
   "metadata": {},
   "outputs": [
    {
     "data": {
      "text/plain": [
       "True"
      ]
     },
     "execution_count": 1,
     "metadata": {},
     "output_type": "execute_result"
    }
   ],
   "source": [
    "monAge = 34\n",
    "tonAge = 17\n",
    "monAge > tonAge #retournera true car monAge est strictement supérieur à tonAge\n",
    "monAge >= tonAge #supérieur ou égal \n",
    "monAge < tonAge #inférieur \n",
    "monAge <= tonAge #inférieur ou égal\n",
    "monAge == tonAge # égal\n",
    "monAge != tonAge # non égal, différent"
   ]
  },
  {
   "cell_type": "markdown",
   "metadata": {},
   "source": [
    "La valeur retournée peut être affectée à une variable de type booléen ou utilisée dans les structures conditionnelles ou les boucles. Voir chapitre suivant."
   ]
  }
 ],
 "metadata": {
  "interpreter": {
   "hash": "ac59ebe37160ed0dfa835113d9b8498d9f09ceb179beaac4002f036b9467c963"
  },
  "kernelspec": {
   "display_name": "Python 3 (ipykernel)",
   "language": "python",
   "name": "python3"
  },
  "language_info": {
   "codemirror_mode": {
    "name": "ipython",
    "version": 3
   },
   "file_extension": ".py",
   "mimetype": "text/x-python",
   "name": "python",
   "nbconvert_exporter": "python",
   "pygments_lexer": "ipython3",
   "version": "3.9.7"
  }
 },
 "nbformat": 4,
 "nbformat_minor": 4
}
