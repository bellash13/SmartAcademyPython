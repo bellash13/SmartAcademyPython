{
 "cells": [
  {
   "cell_type": "markdown",
   "metadata": {},
   "source": [
    "<h1>Chap 5.\tLes boucles et tests décisionnels</h1>"
   ]
  },
  {
   "cell_type": "markdown",
   "metadata": {},
   "source": [
    "<h4>CONDITION IF</h4>\r\n",
    "La condition <code>if expr</code> permet au programme de décider sur l'exécution d'un bloc d'instruction si et seulement si la variable ou l'expression <code>expr</code> est vraie (<code>True</code>).<br/>\r\n",
    "\r\n",
    "Ci-dessous, le programme décide d'afficher un message de droit d'entrée si et seulement si l'age de l'utilisateur est supérieur à 18."
   ]
  },
  {
   "cell_type": "code",
   "execution_count": 1,
   "metadata": {},
   "outputs": [
    {
     "name": "stdout",
     "output_type": "stream",
     "text": [
      "Vous êtes majeur, vous pouvez entrer au vestival.\n"
     ]
    }
   ],
   "source": [
    "ageUtilisateur = 30\r\n",
    "if ageUtilisateur >= 18:\r\n",
    "    print(f'Vous êtes majeur, vous pouvez entrer au vestival.')\r\n",
    "else:\r\n",
    "    print(f'Vous devez être majeur avant de pouvoir accéder à ce festival.')"
   ]
  },
  {
   "cell_type": "code",
   "execution_count": 2,
   "metadata": {},
   "outputs": [],
   "source": [
    "estMajeur = ageUtilisateur >=18"
   ]
  },
  {
   "cell_type": "markdown",
   "metadata": {},
   "source": [
    "La variable <code>estMajeur</code> ci-dessous est de type booléen; sa valeur est <code>True</code> si l'expression est vraie  ou <code>False</code> lorsque sa valeur est fausse.<br/>\r\n",
    "Nous pouvons la passer à l'instruction <code>if</code> afin de prendre une décision"
   ]
  },
  {
   "cell_type": "code",
   "execution_count": 3,
   "metadata": {},
   "outputs": [
    {
     "name": "stdout",
     "output_type": "stream",
     "text": [
      "Vous êtes majeur, vous pouvez entrer au vestival.\n"
     ]
    }
   ],
   "source": [
    "if estMajeur:\r\n",
    "    print(f'Vous êtes majeur, vous pouvez entrer au vestival.')\r\n",
    "else:\r\n",
    "    print(f'Vous devez être majeur avant de pouvoir accéder à ce festival.')"
   ]
  },
  {
   "cell_type": "markdown",
   "metadata": {},
   "source": [
    "Supposons qu'il eut fallu se faire accompagner d'un majeur avant de pouvoir accéder au festival. Ci-dessous nous utilisons l'instruction <code>if</code> et <code>elif</code> pour vérifier une condition supplémentaire."
   ]
  },
  {
   "cell_type": "code",
   "execution_count": 4,
   "metadata": {},
   "outputs": [
    {
     "name": "stdout",
     "output_type": "stream",
     "text": [
      "Vous êtes accompagné de personne adulte, vous pouvez entrer au festival.\n"
     ]
    }
   ],
   "source": [
    "ageUtilisateur = 10\r\n",
    "monAge = 34\r\n",
    "if ageUtilisateur >= 18:\r\n",
    "    print('Vous pouvez entrer au festival.')\r\n",
    "elif monAge >= 18:\r\n",
    "    print('Vous êtes accompagné de personne adulte, vous pouvez entrer au festival.')\r\n",
    "else:\r\n",
    "    print(f'Vous devez être majeur avant de pouvoir accéder à ce festival.')"
   ]
  },
  {
   "cell_type": "markdown",
   "metadata": {},
   "source": [
    "Le programme ci-dessous pouvait se s'écrire autrement, de manière simplifiée, en définissant une variable <code>peutEntrer = ageUtilisateur >= 18 or monAge >= 18</code>. Faire ceci comme exercice."
   ]
  },
  {
   "cell_type": "markdown",
   "metadata": {},
   "source": [
    "<h4>Utilisation de la condition IF avec une liste</h4>\r\n",
    "Nous pouvons utiliser l'instruction <code>if</code> afin d'exécuter un bloc de code si et seulement si un élément est contenu dans une liste. Voici l'illustration."
   ]
  },
  {
   "cell_type": "code",
   "execution_count": 5,
   "metadata": {},
   "outputs": [
    {
     "name": "stdout",
     "output_type": "stream",
     "text": [
      "Vous pouvez jouer de la musique. Attention au volume pour ne pas déranger les voisins :) .\n"
     ]
    }
   ],
   "source": [
    "joursOuvrables = ['Lundi', 'Mardi', 'Mercredi','Jeudi','Vendredi']\r\n",
    "aujourdhui = ['Samedi']\r\n",
    "\r\n",
    "if aujourdhui in joursOuvrables:\r\n",
    "    print('Vous ne pouvez pas jouer de la musique pendant le jour ouvrable.')\r\n",
    "else:\r\n",
    "    print('Vous pouvez jouer de la musique. Attention au volume pour ne pas déranger les voisins :) .')"
   ]
  },
  {
   "cell_type": "markdown",
   "metadata": {},
   "source": [
    "Ce programme affichera à l'écran <code>Vous pouvez jouer de la musique. Attention au volume pour ne pas déranger les voisins :) .</code> car la variable <code>aujourdhui</code> contient la chaine 'Samedi' qui n'est pas présente dans la liste <code>joursOuvrables</code>."
   ]
  },
  {
   "cell_type": "markdown",
   "metadata": {},
   "source": [
    "<i>Theodor Bellash</i><br/>\r\n",
    "<i>theobellash@gmail.com</i><br/>\r\n",
    "<i>www.bellash.co.uk</i>"
   ]
  }
 ],
 "metadata": {
  "interpreter": {
   "hash": "ac59ebe37160ed0dfa835113d9b8498d9f09ceb179beaac4002f036b9467c963"
  },
  "kernelspec": {
   "display_name": "Python 3",
   "language": "python",
   "name": "python3"
  },
  "language_info": {
   "codemirror_mode": {
    "name": "ipython",
    "version": 3
   },
   "file_extension": ".py",
   "mimetype": "text/x-python",
   "name": "python",
   "nbconvert_exporter": "python",
   "pygments_lexer": "ipython3",
   "version": "3.8.1"
  }
 },
 "nbformat": 4,
 "nbformat_minor": 4
}
