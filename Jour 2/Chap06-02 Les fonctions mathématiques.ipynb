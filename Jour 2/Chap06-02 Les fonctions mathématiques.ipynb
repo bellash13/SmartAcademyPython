{
 "cells": [
  {
   "cell_type": "markdown",
   "metadata": {},
   "source": [
    "<h3>Les fonctions mathématiques</h3>\n",
    "<p>Les fonctions mathématiques sont implémentées de manière native dans le module <code>math</code> de Python. Pour utiliser une fonction mathématique, il faut d'abord importer le module <code>math</code>.</p>"
   ]
  },
  {
   "cell_type": "code",
   "execution_count": 2,
   "metadata": {},
   "outputs": [
    {
     "name": "stdout",
     "output_type": "stream",
     "text": [
      "La racine carée de 20.0 est 4.47213595499958\n"
     ]
    }
   ],
   "source": [
    "import math\n",
    "\n",
    "nombreSaisi = input('Veuillez saisir un nombre')\n",
    "nombre = float(nombreSaisi)\n",
    "racine = math.sqrt(nombre) #utilisation de la fonction mathématique sqrt()\n",
    "print (f'La racine carée de {nombre} est {racine}')\n"
   ]
  },
  {
   "cell_type": "code",
   "execution_count": 3,
   "metadata": {},
   "outputs": [
    {
     "name": "stdout",
     "output_type": "stream",
     "text": [
      "5,5,6,6\n"
     ]
    }
   ],
   "source": [
    "arrondi1 = math.floor(5.235)\n",
    "arrondi2 = math.floor(5.635)\n",
    "arrondi3 = math.ceil(5.635)\n",
    "arrondi4 = math.ceil(5.135)\n",
    "print(f'{arrondi1},{arrondi2},{arrondi3},{arrondi4}')"
   ]
  },
  {
   "cell_type": "code",
   "execution_count": 4,
   "metadata": {},
   "outputs": [
    {
     "name": "stdout",
     "output_type": "stream",
     "text": [
      "3.141592653589793\n",
      "2.718281828459045\n"
     ]
    }
   ],
   "source": [
    "print(math.pi)\n",
    "print(math.e)"
   ]
  }
 ],
 "metadata": {
  "interpreter": {
   "hash": "ac59ebe37160ed0dfa835113d9b8498d9f09ceb179beaac4002f036b9467c963"
  },
  "kernelspec": {
   "display_name": "Python 3 (ipykernel)",
   "language": "python",
   "name": "python3"
  },
  "language_info": {
   "codemirror_mode": {
    "name": "ipython",
    "version": 3
   },
   "file_extension": ".py",
   "mimetype": "text/x-python",
   "name": "python",
   "nbconvert_exporter": "python",
   "pygments_lexer": "ipython3",
   "version": "3.9.7"
  }
 },
 "nbformat": 4,
 "nbformat_minor": 4
}
