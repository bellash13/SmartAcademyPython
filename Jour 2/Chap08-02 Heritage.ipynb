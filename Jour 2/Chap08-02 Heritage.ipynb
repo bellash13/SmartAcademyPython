{
 "cells": [
  {
   "cell_type": "markdown",
   "metadata": {},
   "source": [
    "<h3>Héritage</h3>"
   ]
  },
  {
   "cell_type": "code",
   "execution_count": 1,
   "metadata": {},
   "outputs": [],
   "source": [
    "class Animal:\n",
    "    def marcher(self):\n",
    "        print('L\\'animal marche')\n",
    "        \n",
    "class Chien(Animal):\n",
    "    def aboyer(self):\n",
    "        print('Le chien aboie')"
   ]
  },
  {
   "cell_type": "markdown",
   "metadata": {},
   "source": [
    "Dans cet exemple, le chien est une classe qui hérite de la classe Animal. Tout chien est animal mais tout animal n'est pas nécessairement chien."
   ]
  },
  {
   "cell_type": "code",
   "execution_count": 4,
   "metadata": {},
   "outputs": [
    {
     "name": "stdout",
     "output_type": "stream",
     "text": [
      "Le chien aboie\n",
      "L'animal marche\n"
     ]
    }
   ],
   "source": [
    "milou = Chien()\n",
    "milou.aboyer()\n",
    "milou.marcher()\n",
    "#a = Animal()\n",
    "#a.aboyer()"
   ]
  }
 ],
 "metadata": {
  "interpreter": {
   "hash": "ac59ebe37160ed0dfa835113d9b8498d9f09ceb179beaac4002f036b9467c963"
  },
  "kernelspec": {
   "display_name": "Python 3 (ipykernel)",
   "language": "python",
   "name": "python3"
  },
  "language_info": {
   "codemirror_mode": {
    "name": "ipython",
    "version": 3
   },
   "file_extension": ".py",
   "mimetype": "text/x-python",
   "name": "python",
   "nbconvert_exporter": "python",
   "pygments_lexer": "ipython3",
   "version": "3.9.7"
  }
 },
 "nbformat": 4,
 "nbformat_minor": 4
}
