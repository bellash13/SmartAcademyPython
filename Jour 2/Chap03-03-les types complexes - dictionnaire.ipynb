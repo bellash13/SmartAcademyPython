{
 "cells": [
  {
   "cell_type": "markdown",
   "metadata": {},
   "source": [
    "<h3>Les types complexes</h3>\n",
    "\n",
    "Python définit des types des variables complexes qui sont:\n",
    "- Les dictionnaires <strong>{}</strong>\n",
    "- Les objets\n",
    "\n",
    "Nous verons en détails les objets au <strong>chapître 8: Programmation Orientée Objet</strong>,  ci-dessous nous définissons une variable de type dictionnaire."
   ]
  },
  {
   "cell_type": "code",
   "execution_count": 1,
   "metadata": {},
   "outputs": [
    {
     "name": "stdin",
     "output_type": "stream",
     "text": [
      "Votre age svp! 80\n"
     ]
    }
   ],
   "source": [
    "#définition d'un dictionnaire\n",
    "apprenant = dict({'nom': 'Mvwezolo', 'postNom': 'Kani', \n",
    "                  'prenom': 'Hervé', 'age': 28}) \n"
   ]
  },
  {
   "cell_type": "markdown",
   "metadata": {},
   "source": [
    "Nous accédons à un élément du dictionnaire en précisant la propriété. Voici l'exemple qui nous permet d'afficher le nom et l'age contenu dans la variable <code>apprenant</code>"
   ]
  },
  {
   "cell_type": "code",
   "execution_count": 2,
   "metadata": {},
   "outputs": [
    {
     "name": "stdout",
     "output_type": "stream",
     "text": [
      "Mvwezolo\n",
      "80\n"
     ]
    }
   ],
   "source": [
    "print(apprenant[\"nom\"])\n",
    "print(apprenant[\"age\"])"
   ]
  },
  {
   "cell_type": "code",
   "execution_count": 6,
   "metadata": {},
   "outputs": [
    {
     "name": "stdin",
     "output_type": "stream",
     "text": [
      "Saisir votre age svp:  Glody\n",
      "votre age svp:  75\n"
     ]
    },
    {
     "name": "stdout",
     "output_type": "stream",
     "text": [
      "{'nom': 'Glody', 'age': '75'}\n",
      "le nom est Glody, age est 75\n"
     ]
    }
   ],
   "source": [
    "#peu lisible mais fonctionne aussi\n",
    "apprenant = dict({'nom': input('Saisir votre age svp: '), \n",
    "                  'age': input('votre age svp: ') }) \n",
    "\n",
    "print(apprenant)\n",
    "print(f\"le nom est {apprenant['nom']}, age est {apprenant['age']}\")"
   ]
  },
  {
   "cell_type": "code",
   "execution_count": null,
   "metadata": {},
   "outputs": [],
   "source": []
  }
 ],
 "metadata": {
  "interpreter": {
   "hash": "ac59ebe37160ed0dfa835113d9b8498d9f09ceb179beaac4002f036b9467c963"
  },
  "kernelspec": {
   "display_name": "Python 3 (ipykernel)",
   "language": "python",
   "name": "python3"
  },
  "language_info": {
   "codemirror_mode": {
    "name": "ipython",
    "version": 3
   },
   "file_extension": ".py",
   "mimetype": "text/x-python",
   "name": "python",
   "nbconvert_exporter": "python",
   "pygments_lexer": "ipython3",
   "version": "3.9.7"
  }
 },
 "nbformat": 4,
 "nbformat_minor": 4
}
