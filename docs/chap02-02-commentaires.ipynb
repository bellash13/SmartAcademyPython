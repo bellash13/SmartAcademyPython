{
 "cells": [
  {
   "cell_type": "markdown",
   "source": [
    "<h3>Les commentaires</h3>\r\n",
    "<p>Lorsque vous écrivez un programme, vous serez le plus souvent appelé à commenter vos lignes de code afin de vous les expliquer à vous ou aux autres programmeurs qui vous liront; c'est une bonne pratique.</p>\r\n",
    "<p>Les commentaires entre codes facilitent aux humains la compréhension du code et par conséquent, ils ne sont pas ignorés par Python. Voici notre programme de tout à l'heure, commenté.</p>"
   ],
   "metadata": {}
  },
  {
   "cell_type": "code",
   "execution_count": 1,
   "source": [
    "'''\r\n",
    "Fonction pour dire bonjour à l'utilisateur :\r\n",
    "cette fonction va afficher un message sympa à l'écran\r\n",
    "'''\r\n",
    "def direBonjour():\r\n",
    "    print('Bonjour cher utilisateur')\r\n",
    "\r\n",
    "#ici j'appelle ma fonction\r\n",
    "direBonjour()"
   ],
   "outputs": [
    {
     "output_type": "stream",
     "name": "stdout",
     "text": [
      "Bonjour cher utilisateur\n"
     ]
    }
   ],
   "metadata": {}
  },
  {
   "cell_type": "markdown",
   "source": [
    "<p>Lorsque le programme rencontre des lignes des textes entre les trois guillemets simples <code>'''</code> et <code>'''</code> il les ignore à l'exécution: il l'utilise pour la documentation du code.</p>\r\n",
    "<p>Une autre façon de commenter le code sur une seule ligne est d'utiliser le caractère <code>#</code> suivi du commentaire comme nous l'avons fait sur la ligne </p>"
   ],
   "metadata": {}
  }
 ],
 "metadata": {
  "orig_nbformat": 4,
  "language_info": {
   "name": "python",
   "version": "3.9.7",
   "mimetype": "text/x-python",
   "codemirror_mode": {
    "name": "ipython",
    "version": 3
   },
   "pygments_lexer": "ipython3",
   "nbconvert_exporter": "python",
   "file_extension": ".py"
  },
  "kernelspec": {
   "name": "python3",
   "display_name": "Python 3.9.7 64-bit"
  },
  "interpreter": {
   "hash": "ac59ebe37160ed0dfa835113d9b8498d9f09ceb179beaac4002f036b9467c963"
  }
 },
 "nbformat": 4,
 "nbformat_minor": 2
}