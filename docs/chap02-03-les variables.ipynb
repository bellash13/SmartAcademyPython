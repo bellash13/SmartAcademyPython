{
 "cells": [
  {
   "cell_type": "markdown",
   "source": [
    "<h3>Les variables</h3>\r\n",
    "<p>La variable est utilisée afin de stocker une valeur dans la mémoire de l'ordinateur, et être utilisée à chaque fois que nous avons besoin de cette valeur.</p>\r\n",
    "<p>Voici comment définir une variable en Python</p>"
   ],
   "metadata": {}
  },
  {
   "cell_type": "code",
   "execution_count": 1,
   "source": [
    "monAge = 34"
   ],
   "outputs": [],
   "metadata": {}
  },
  {
   "cell_type": "markdown",
   "source": [
    "<p>Ce programme déclare une variable nommée <code>monAge</code> et lui  affecte la valeur <code>34</code>. Ainsi, nous pouvons afficher la valeur que contient la variable à l'aide de la ligne de code <code>print(monAge)</code>. <em>A faire comme exercice</em>.</p>"
   ],
   "metadata": {}
  },
  {
   "cell_type": "markdown",
   "source": [
    "<p>Nous nous proposons d'écrire un programme qui déclare et affiche plusieurs variables:</p>\r\n",
    "<ul>\r\n",
    "<li>Une variable pour stocker le nom d'une personne</li>\r\n",
    "<li>Une variable pour stocker l'age de cette personne</li>\r\n",
    "<li>Une variable pour stocker si la personne dont l'age est saisi est majeur ou non.</li>\r\n",
    "</ul>\r\n",
    "\r\n",
    "<p>Voici comment se présentera le programme</p>"
   ],
   "metadata": {}
  },
  {
   "cell_type": "code",
   "execution_count": 2,
   "source": [
    "monNom = 'Theodor Bellash'\r\n",
    "monAge = 34\r\n",
    "suisJeMajeur = monAge >= 18\r\n",
    "\r\n",
    "print(f'Mon nom est {monNom}')\r\n",
    "print(f'Mon age est {monAge}')\r\n",
    "print(f'Suis-je majeur {suisJeMajeur}')"
   ],
   "outputs": [
    {
     "output_type": "stream",
     "name": "stdout",
     "text": [
      "Mon nom est Theodor Bellash\n",
      "Mon age est 34\n",
      "Suis-je majeur True\n"
     ]
    }
   ],
   "metadata": {}
  },
  {
   "cell_type": "markdown",
   "source": [
    "Notez l'utilisation de la lettre <code>f</code> dans la fonction <code>print()</code>; ceci nous permet de combiner le texte tapé à la main avec les variables placées entre les accolades <code>{</code> et <code>}</code>. De ce fait Python comprend que le mot placé entre accolades est une variable, il ira chercher la valeur contenu dans cette variable et l'affichera côte à côte."
   ],
   "metadata": {}
  }
 ],
 "metadata": {
  "orig_nbformat": 4,
  "language_info": {
   "name": "python",
   "version": "3.9.7",
   "mimetype": "text/x-python",
   "codemirror_mode": {
    "name": "ipython",
    "version": 3
   },
   "pygments_lexer": "ipython3",
   "nbconvert_exporter": "python",
   "file_extension": ".py"
  },
  "kernelspec": {
   "name": "python3",
   "display_name": "Python 3.9.7 64-bit"
  },
  "interpreter": {
   "hash": "ac59ebe37160ed0dfa835113d9b8498d9f09ceb179beaac4002f036b9467c963"
  }
 },
 "nbformat": 4,
 "nbformat_minor": 2
}