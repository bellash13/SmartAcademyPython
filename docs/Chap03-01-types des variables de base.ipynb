{
 "cells": [
  {
   "cell_type": "markdown",
   "source": [
    "<h3>Types des variables</h3>\r\n",
    "<p>Selon la nature des valeurs que peut contenir une variable, Python définit plusieurs types de variables. Examinons le programme ci-dessous</p>"
   ],
   "metadata": {}
  },
  {
   "cell_type": "code",
   "execution_count": 3,
   "source": [
    "'''Ci-dessous les différents types de variables en python'''\r\n",
    "nom = 'Theodor Bellash'\r\n",
    "monAge = 34\r\n",
    "estMajeur = True\r\n",
    "tauxChange = 0.0005\r\n",
    "prixCDF = 100000\r\n",
    "prixUSD = prixCDF * tauxChange\r\n",
    "\r\n",
    "\r\n",
    "print(prixUSD)"
   ],
   "outputs": [
    {
     "output_type": "stream",
     "name": "stdout",
     "text": [
      "50.0\n"
     ]
    }
   ],
   "metadata": {}
  },
  {
   "cell_type": "markdown",
   "source": [
    "Dans le programme ci-dessus:\r\n",
    "- <code>nom</code> est une variable de type chaîne des caractères (string).\r\n",
    "- <code>monAge</code> est une variable de type nombre entier (int).\r\n",
    "- <code>estMajeur</code> est un booléen et accepte uniquement deux valeurs ou expressions True, False (bool).\r\n",
    "- <code>tauxChange</code> est un nombre réel pouvant contenir la virgule (float).\r\n",
    "- <code>prixCDF</code> est un nombre entier car ne contenant pas de virgule (int).\r\n",
    "- <code>prixUSD</code> est une expression dont la valeur peut contenir une virgule, d'où c'est un nombre réel (float)."
   ],
   "metadata": {}
  },
  {
   "cell_type": "markdown",
   "source": [
    "<p><strong>N.B.</strong>: Une variable de type <strong>booléen</strong> peut contenir une expression évaluée sur base d'une arithmétique binaire. Par exemple</p>\r\n"
   ],
   "metadata": {}
  },
  {
   "cell_type": "code",
   "execution_count": 4,
   "source": [
    "estVenu = True\r\n",
    "heureArrivee = 8\r\n",
    "estArriveATemps = estVenu and heureArrivee <= 8\r\n",
    "estMalade = False\r\n",
    "absentSansJustification = not(estVenu and (heureArrivee <= 8)) or (not estMalade)\r\n",
    "\r\n",
    "print(absentSansJustification)\r\n"
   ],
   "outputs": [
    {
     "output_type": "stream",
     "name": "stdout",
     "text": [
      "True\n"
     ]
    }
   ],
   "metadata": {}
  },
  {
   "cell_type": "markdown",
   "source": [
    "<p>Pour mieux comprendre, dans une entreprise x, un agent est considéré absent s'il n'est pas venu avant 8h ou si il n'est pas malade. S'il est malade, on considère qu'il n'est pas absent</p>\r\n",
    "<p>Noter l'utilisation des paranthèses pour définir la priorité dans l'arithmétique.</p>"
   ],
   "metadata": {}
  },
  {
   "cell_type": "markdown",
   "source": [
    "<i>Theodor Bellash</i><br/>\r\n",
    "<i>theobellash@gmail.com</i><br/>\r\n",
    "<i>www.bellash.co.uk</i>"
   ],
   "metadata": {}
  }
 ],
 "metadata": {
  "orig_nbformat": 4,
  "language_info": {
   "name": "python",
   "version": "3.9.7",
   "mimetype": "text/x-python",
   "codemirror_mode": {
    "name": "ipython",
    "version": 3
   },
   "pygments_lexer": "ipython3",
   "nbconvert_exporter": "python",
   "file_extension": ".py"
  },
  "kernelspec": {
   "name": "python3",
   "display_name": "Python 3.9.7 64-bit"
  },
  "interpreter": {
   "hash": "ac59ebe37160ed0dfa835113d9b8498d9f09ceb179beaac4002f036b9467c963"
  }
 },
 "nbformat": 4,
 "nbformat_minor": 2
}