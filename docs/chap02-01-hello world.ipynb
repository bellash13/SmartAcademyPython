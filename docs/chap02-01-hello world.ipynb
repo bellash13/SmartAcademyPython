{
 "cells": [
  {
   "cell_type": "markdown",
   "source": [
    "<h1>Chap 2.\tPremiers pas avec Python</h1>\r\n"
   ],
   "metadata": {}
  },
  {
   "cell_type": "markdown",
   "source": [
    "<h3><strong>- Hello world</strong></h3>\r\n",
    "<p>\r\n",
    "Nous allons écrire notre premier programme Python. Créer un nouveau ficher appelé <code>hello.py</code> et saisir le code ci-dessous</p>"
   ],
   "metadata": {}
  },
  {
   "cell_type": "code",
   "execution_count": 1,
   "source": [
    "print('Hello World!')"
   ],
   "outputs": [
    {
     "output_type": "stream",
     "name": "stdout",
     "text": [
      "Hello World!\n"
     ]
    }
   ],
   "metadata": {}
  },
  {
   "cell_type": "markdown",
   "source": [
    "Ce programme traditionnel affiche le message <code>Hello World!</code> à l'écran de l'utilisateur; Vous pouvez tester à l'aide de la commande <code>python hello.py</code> à exécuter dans le même dossier où se trouve le ficher<code>hello.py</code>."
   ],
   "metadata": {}
  },
  {
   "cell_type": "markdown",
   "source": [
    "<p>Dans le programme <code>print('Hello World!')</code>, nous avons afficher le message à l'écran de l'utilisateur à l'aide de la fonction <code>print</code> à laquelle nous avons passer un texte entre paranthèse.</p>"
   ],
   "metadata": {}
  },
  {
   "cell_type": "markdown",
   "source": [
    "<p>Nous pouvons créer un fichier <code>direbonjour.py</code> et écrire notre propre fonction qui salue l'utilisateur de la manière suivante:</p>"
   ],
   "metadata": {}
  },
  {
   "cell_type": "code",
   "execution_count": 2,
   "source": [
    "def direBonjour():\r\n",
    "    print('Bonjour cher utilisateur')"
   ],
   "outputs": [],
   "metadata": {}
  },
  {
   "cell_type": "markdown",
   "source": [
    "Pour appeler cette fonction, taper la ligne de code <code>direBonjour()</code> de sorte à obtenir le programme ci-dessous:"
   ],
   "metadata": {}
  },
  {
   "cell_type": "code",
   "execution_count": 3,
   "source": [
    "def direBonjour():\r\n",
    "    print('Bonjour cher utilisateur')\r\n",
    "direBonjour()"
   ],
   "outputs": [
    {
     "output_type": "stream",
     "name": "stdout",
     "text": [
      "Bonjour cher utilisateur\n"
     ]
    }
   ],
   "metadata": {}
  },
  {
   "cell_type": "markdown",
   "source": [
    "Exécuter le programme de la même manière expliquer ci-haut (<code>python direbonjour.py</code>) et appuyer sur la touche ENTER.\r\n",
    "<p>Le programme afficher le message <code>Bonjour cher utilisateur</code> sur la console de l'utilisateur.</p>\r\n",
    "<br/>\r\n",
    "<p><strong>N.B</strong>: Si vous n'obtenez pas le résultat ci-dessus, c'est que vous avez sûrement raté une des étapes expliquées ci-haut. Il est temps de recommencer afin d'arriver au bon résultat: c'est ça la vie de dévelopeur, la machine a toujours raison lorsqu'un programme ne fonctionne pas, c'est que vous ne l'avez pas écrit correctement. Corrigez-le, vous y arriverez et le résultat devrait vous satisfaire et vous donner le courage de continuer.</p>"
   ],
   "metadata": {}
  }
 ],
 "metadata": {
  "orig_nbformat": 4,
  "language_info": {
   "name": "python",
   "version": "3.9.7",
   "mimetype": "text/x-python",
   "codemirror_mode": {
    "name": "ipython",
    "version": 3
   },
   "pygments_lexer": "ipython3",
   "nbconvert_exporter": "python",
   "file_extension": ".py"
  },
  "kernelspec": {
   "name": "python3",
   "display_name": "Python 3.9.7 64-bit"
  },
  "interpreter": {
   "hash": "ac59ebe37160ed0dfa835113d9b8498d9f09ceb179beaac4002f036b9467c963"
  }
 },
 "nbformat": 4,
 "nbformat_minor": 2
}