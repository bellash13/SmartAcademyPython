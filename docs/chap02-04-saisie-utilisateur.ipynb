{
 "cells": [
  {
   "cell_type": "markdown",
   "metadata": {},
   "source": [
    "<h3>Capturer un texte saisi par l'utilisateur</h3>\r\n",
    "<p>Nous nous proposons d'écrire un programme qui demande et stocke le nom de l'utilisateur, l'âge de l'utilisateur et stocke une valeur qui renseigne si l'utilisateur est majeur ou non. Par la suite nous afficherons un message de salutation à cet utilisateur, son âge ainsi que sa majorité.</p>\r\n",
    "<p>Voici comment se présente notre programme</p>"
   ]
  },
  {
   "cell_type": "code",
   "execution_count": 1,
   "metadata": {},
   "outputs": [
    {
     "name": "stdin",
     "output_type": "stream",
     "text": [
      "Veuillez saisir votre nom:  David\n",
      "Veuillez saisir votre age:  80\n"
     ]
    },
    {
     "name": "stdout",
     "output_type": "stream",
     "text": [
      "Bonjour David\n",
      "vous avez 80 ans\n",
      "Etes-vous majeur? True\n"
     ]
    }
   ],
   "source": [
    "nom = input(\"Veuillez saisir votre nom: \")\r\n",
    "age = int(input(\"Veuillez saisir votre age: \"))\r\n",
    "estMajeur = age >= 18\r\n",
    "\r\n",
    "print(f'Bonjour {nom}')\r\n",
    "print(f'vous avez {age} ans')\r\n",
    "print(f'Etes-vous majeur? {estMajeur}')"
   ]
  },
  {
   "cell_type": "markdown",
   "metadata": {},
   "source": [
    "<p>Noter l'utilisation de la fonction <code>input()</code> avec le texte à afficher à l'utilisateur pour lui demander son nom. Cette fonction affichera le message placé entre parenthèses et guillements, ensuite stockera la valeur tapée par l'utilisateur dans la variable <code>nom</code> pour une utilisateur ultérieure dans le programme.</p>\r\n",
    "<p>Autre détail à noter, l'utilisation de la fonction <code>int()</code> qui enveloppe la fonction <code>input()</code> sur la deuxième ligne du programme; il s'agit d'une conversion de texte saisi par l'utilisateur en nombre, car l'age est un nombre et non un texte. Nous verrons ceci en détail au point suivant, sur la <em>conversion des types des variables</em>.</p>"
   ]
  },
  {
   "cell_type": "markdown",
   "metadata": {},
   "source": [
    "NB: si l'utilisateur saisit un texte à la place de l'age, Python va vous générer une erreur comme quoi le texte saisi n'est pas un nombre; en programmation, on appelle cela une <strong><em>exception</em></strong>; nous apprendrons plus tard comment gérer les exceptions, afin de rester à l'abri des erreurs dans des cas pareils."
   ]
  }
 ],
 "metadata": {
  "interpreter": {
   "hash": "7a542ca580817fc4dd55327026e074e2fa0cd470fc5dee9350c2d8b13822db8d"
  },
  "kernelspec": {
   "display_name": "Python 3",
   "language": "python",
   "name": "python3"
  },
  "language_info": {
   "codemirror_mode": {
    "name": "ipython",
    "version": 3
   },
   "file_extension": ".py",
   "mimetype": "text/x-python",
   "name": "python",
   "nbconvert_exporter": "python",
   "pygments_lexer": "ipython3",
   "version": "3.8.1"
  }
 },
 "nbformat": 4,
 "nbformat_minor": 4
}
