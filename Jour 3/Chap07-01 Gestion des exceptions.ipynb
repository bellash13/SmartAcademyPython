{
 "cells": [
  {
   "cell_type": "markdown",
   "metadata": {},
   "source": [
    "<h1>Chap 7.\tAutres notions importantes</h1>\n",
    "<p>Voici quelques notions importantes à maitriser.</p>\n",
    "<h3>-\tGestion des exceptions</h3>"
   ]
  },
  {
   "cell_type": "code",
   "execution_count": 6,
   "metadata": {},
   "outputs": [
    {
     "name": "stdin",
     "output_type": "stream",
     "text": [
      "Veuillez taper votre age:  0\n"
     ]
    },
    {
     "name": "stdout",
     "output_type": "stream",
     "text": [
      "Votre age est 0\n"
     ]
    }
   ],
   "source": [
    "try:\n",
    "    age = int(input(\"Veuillez taper votre age: \"))\n",
    "    print(f'Votre age est {age}')\n",
    "except:   \n",
    "    print(\"Une erreur inattendue est survenue.\")\n"
   ]
  },
  {
   "cell_type": "code",
   "execution_count": 13,
   "metadata": {},
   "outputs": [
    {
     "name": "stdin",
     "output_type": "stream",
     "text": [
      "Veuillez taper votre age:  10\n",
      "Veuillez taper votre poids:  cddww\n"
     ]
    },
    {
     "name": "stdout",
     "output_type": "stream",
     "text": [
      "could not convert string to float: 'cddww'\n"
     ]
    }
   ],
   "source": [
    "try:\n",
    "    age = int(input(\"Veuillez taper votre age: \"))\n",
    "    poids = float(input(\"Veuillez taper votre poids: \"))\n",
    "    print(f'Votre masse est {poids/age}')\n",
    "except ZeroDivisionError:\n",
    "    print(\"Age ne peut pas être 0.\")\n",
    "except ValueError as erreur:   \n",
    "    print(f\"{erreur}\")\n",
    "except:\n",
    "    print(\"Une erreur inattendue est survenue.\")"
   ]
  },
  {
   "cell_type": "code",
   "execution_count": null,
   "metadata": {},
   "outputs": [],
   "source": []
  }
 ],
 "metadata": {
  "interpreter": {
   "hash": "ac59ebe37160ed0dfa835113d9b8498d9f09ceb179beaac4002f036b9467c963"
  },
  "kernelspec": {
   "display_name": "Python 3 (ipykernel)",
   "language": "python",
   "name": "python3"
  },
  "language_info": {
   "codemirror_mode": {
    "name": "ipython",
    "version": 3
   },
   "file_extension": ".py",
   "mimetype": "text/x-python",
   "name": "python",
   "nbconvert_exporter": "python",
   "pygments_lexer": "ipython3",
   "version": "3.9.7"
  }
 },
 "nbformat": 4,
 "nbformat_minor": 4
}
