{
 "cells": [
  {
   "cell_type": "code",
   "execution_count": 1,
   "id": "28325187-2c68-48a0-b991-04a396dee384",
   "metadata": {},
   "outputs": [],
   "source": [
    "import numpy as np"
   ]
  },
  {
   "cell_type": "code",
   "execution_count": 12,
   "id": "bc88e1df-35f6-42f3-95ca-0e9077a300f6",
   "metadata": {},
   "outputs": [],
   "source": [
    " a = np.array([\n",
    "     [1,2,3,4],\n",
    "     [5,6,7,8],\n",
    "     [9,10,11,12]])\n"
   ]
  },
  {
   "cell_type": "code",
   "execution_count": 13,
   "id": "57bdaf90-98c6-4b1f-88df-72044a2137e8",
   "metadata": {},
   "outputs": [
    {
     "data": {
      "text/plain": [
       "(3, 4)"
      ]
     },
     "execution_count": 13,
     "metadata": {},
     "output_type": "execute_result"
    }
   ],
   "source": [
    "a.shape #détermine la dimension de la matrice nxm"
   ]
  },
  {
   "cell_type": "code",
   "execution_count": 15,
   "id": "a52191f0-7597-4625-b84b-acba133e9ef6",
   "metadata": {},
   "outputs": [
    {
     "data": {
      "text/plain": [
       "2"
      ]
     },
     "execution_count": 15,
     "metadata": {},
     "output_type": "execute_result"
    }
   ],
   "source": [
    "a.ndim #Affiche le nombre des dimensions"
   ]
  },
  {
   "cell_type": "code",
   "execution_count": 16,
   "id": "c3c1d206-0a2d-4ca0-8b1d-10cf79647d36",
   "metadata": {},
   "outputs": [
    {
     "data": {
      "text/plain": [
       "dtype('int32')"
      ]
     },
     "execution_count": 16,
     "metadata": {},
     "output_type": "execute_result"
    }
   ],
   "source": [
    "a.dtype #type des données de la matrice"
   ]
  },
  {
   "cell_type": "code",
   "execution_count": 19,
   "id": "feb79100-e8ee-4570-b177-343b2ad90ed3",
   "metadata": {},
   "outputs": [
    {
     "data": {
      "text/plain": [
       "array([[1., 1., 1., ..., 1., 1., 1.],\n",
       "       [1., 1., 1., ..., 1., 1., 1.],\n",
       "       [1., 1., 1., ..., 1., 1., 1.],\n",
       "       ...,\n",
       "       [1., 1., 1., ..., 1., 1., 1.],\n",
       "       [1., 1., 1., ..., 1., 1., 1.],\n",
       "       [1., 1., 1., ..., 1., 1., 1.]])"
      ]
     },
     "execution_count": 19,
     "metadata": {},
     "output_type": "execute_result"
    }
   ],
   "source": [
    "matriceUnitaire = np.ones((105, 60))\n",
    "matriceUnitaire"
   ]
  },
  {
   "cell_type": "code",
   "execution_count": 20,
   "id": "ff09a794-2efa-4ce9-b8bc-7b10a1f8f821",
   "metadata": {},
   "outputs": [
    {
     "data": {
      "text/plain": [
       "array([[0., 0., 0., 0., 0., 0.],\n",
       "       [0., 0., 0., 0., 0., 0.],\n",
       "       [0., 0., 0., 0., 0., 0.],\n",
       "       [0., 0., 0., 0., 0., 0.],\n",
       "       [0., 0., 0., 0., 0., 0.],\n",
       "       [0., 0., 0., 0., 0., 0.],\n",
       "       [0., 0., 0., 0., 0., 0.],\n",
       "       [0., 0., 0., 0., 0., 0.],\n",
       "       [0., 0., 0., 0., 0., 0.],\n",
       "       [0., 0., 0., 0., 0., 0.]])"
      ]
     },
     "execution_count": 20,
     "metadata": {},
     "output_type": "execute_result"
    }
   ],
   "source": [
    "matriceNulle = np.zeros((10, 6))\n",
    "matriceNulle"
   ]
  },
  {
   "cell_type": "code",
   "execution_count": 21,
   "id": "e665b602-959b-47a9-a0ea-adfdda7a3a4e",
   "metadata": {},
   "outputs": [
    {
     "data": {
      "text/plain": [
       "array([1, 2, 3])"
      ]
     },
     "execution_count": 21,
     "metadata": {},
     "output_type": "execute_result"
    }
   ],
   "source": [
    "matriceUniques = np.unique([1, 1, 2, 2, 3, 3])\n",
    "matriceUniques"
   ]
  },
  {
   "cell_type": "code",
   "execution_count": 26,
   "id": "af7958d8-7070-409e-b319-302dc43c9b86",
   "metadata": {},
   "outputs": [
    {
     "data": {
      "text/plain": [
       "array([[1, 0, 0],\n",
       "       [2, 3, 4]])"
      ]
     },
     "execution_count": 26,
     "metadata": {},
     "output_type": "execute_result"
    }
   ],
   "source": [
    "matrice = np.array([[1, 0, 0],\n",
    "                    [1, 0, 0],\n",
    "                    [2, 3, 4]])\n",
    "np.unique(matrice, axis = 0)"
   ]
  },
  {
   "cell_type": "code",
   "execution_count": 30,
   "id": "e7c09e3e-9697-4158-8d70-ccb185c20ddc",
   "metadata": {},
   "outputs": [
    {
     "data": {
      "text/plain": [
       "array([1, 2, 3, 0, 2, 1])"
      ]
     },
     "execution_count": 30,
     "metadata": {},
     "output_type": "execute_result"
    }
   ],
   "source": [
    "matrice = np.array((0, 0, 0, 1, 2, 3, 0, 2, 1, 0))\n",
    "np.trim_zeros(matrice)"
   ]
  },
  {
   "cell_type": "code",
   "execution_count": null,
   "id": "b999d4d8-5014-47b2-98d0-5d64bf06f37c",
   "metadata": {},
   "outputs": [],
   "source": []
  },
  {
   "cell_type": "code",
   "execution_count": null,
   "id": "1210b81c-15e8-4f30-8142-66b87fa06463",
   "metadata": {},
   "outputs": [],
   "source": []
  }
 ],
 "metadata": {
  "kernelspec": {
   "display_name": "Python 3 (ipykernel)",
   "language": "python",
   "name": "python3"
  },
  "language_info": {
   "codemirror_mode": {
    "name": "ipython",
    "version": 3
   },
   "file_extension": ".py",
   "mimetype": "text/x-python",
   "name": "python",
   "nbconvert_exporter": "python",
   "pygments_lexer": "ipython3",
   "version": "3.9.7"
  }
 },
 "nbformat": 4,
 "nbformat_minor": 5
}
