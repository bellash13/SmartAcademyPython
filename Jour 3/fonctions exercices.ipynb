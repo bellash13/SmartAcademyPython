{
 "cells": [
  {
   "cell_type": "code",
   "execution_count": 1,
   "metadata": {},
   "outputs": [],
   "source": [
    "def somme(*nombres):\n",
    "    s = 0\n",
    "    for nombre in nombres:\n",
    "        s+=nombre\n",
    "    return s\n"
   ]
  },
  {
   "cell_type": "code",
   "execution_count": 2,
   "metadata": {},
   "outputs": [],
   "source": [
    "sommeDesCarrees = somme(1, 4, 16, 64)"
   ]
  },
  {
   "cell_type": "code",
   "execution_count": 5,
   "metadata": {},
   "outputs": [
    {
     "name": "stdout",
     "output_type": "stream",
     "text": [
      "La somme est 85\n"
     ]
    },
    {
     "data": {
      "text/plain": [
       "85"
      ]
     },
     "metadata": {},
     "output_type": "display_data"
    }
   ],
   "source": [
    "print(f'La somme est {sommeDesCarrees}')\n",
    "display(sommeDesCarrees)"
   ]
  },
  {
   "cell_type": "code",
   "execution_count": 11,
   "metadata": {},
   "outputs": [],
   "source": [
    "def multiplie(*nombres):\n",
    "    produit = 1\n",
    "    for nombre in nombres:\n",
    "        produit *= nombre\n",
    "        # produit = produit * nombre\n",
    "    return produit"
   ]
  },
  {
   "cell_type": "code",
   "execution_count": 12,
   "metadata": {},
   "outputs": [
    {
     "data": {
      "text/plain": [
       "720"
      ]
     },
     "metadata": {},
     "output_type": "display_data"
    }
   ],
   "source": [
    "prod = multiplie(6, 5, 4, 3, 2, 1)\n",
    "\n",
    "display(prod)"
   ]
  },
  {
   "cell_type": "code",
   "execution_count": 13,
   "metadata": {},
   "outputs": [
    {
     "data": {
      "text/plain": [
       "720"
      ]
     },
     "metadata": {},
     "output_type": "display_data"
    }
   ],
   "source": [
    "def factoriel(n):\n",
    "    fact = 1\n",
    "    indice = 1\n",
    "    \n",
    "    while indice <= n:\n",
    "        fact *= indice\n",
    "        indice += 1\n",
    "    return fact\n",
    "\n",
    "display(factoriel(6))"
   ]
  },
  {
   "cell_type": "code",
   "execution_count": 15,
   "metadata": {},
   "outputs": [
    {
     "data": {
      "text/plain": [
       "93326215443944152681699238856266700490715968264381621468592963895217599993229915608941463976156518286253697920827223758251185210916864000000000000000000000000"
      ]
     },
     "metadata": {},
     "output_type": "display_data"
    }
   ],
   "source": [
    "def factoriel_recursive(n):\n",
    "    if n == 1:\n",
    "        return 1\n",
    "    return n*factoriel_recursive(n-1)\n",
    "\n",
    "fact = factoriel_recursive(100)\n",
    "\n",
    "display(fact)"
   ]
  },
  {
   "cell_type": "code",
   "execution_count": null,
   "metadata": {},
   "outputs": [],
   "source": []
  }
 ],
 "metadata": {
  "kernelspec": {
   "display_name": "Python 3",
   "language": "python",
   "name": "python3"
  },
  "language_info": {
   "codemirror_mode": {
    "name": "ipython",
    "version": 3
   },
   "file_extension": ".py",
   "mimetype": "text/x-python",
   "name": "python",
   "nbconvert_exporter": "python",
   "pygments_lexer": "ipython3",
   "version": "3.8.1"
  }
 },
 "nbformat": 4,
 "nbformat_minor": 4
}
