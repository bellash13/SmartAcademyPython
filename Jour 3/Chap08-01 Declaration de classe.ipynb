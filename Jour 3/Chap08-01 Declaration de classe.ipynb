{
 "cells": [
  {
   "cell_type": "code",
   "execution_count": 4,
   "metadata": {},
   "outputs": [
    {
     "name": "stdout",
     "output_type": "stream",
     "text": [
      "Initialisation en cours...\n"
     ]
    }
   ],
   "source": [
    "class Vehicule:\n",
    "    def __init__(self, marque='Toyota', couleur='Grise'):\n",
    "        self.marque = marque\n",
    "        self.couleurVoiture = couleur\n",
    "        self.vitesse = 0 \n",
    "        print('Initialisation en cours...')\n",
    "\n",
    "v = Vehicule()"
   ]
  },
  {
   "cell_type": "code",
   "execution_count": 15,
   "metadata": {},
   "outputs": [],
   "source": [
    "class Vehicule:\n",
    "    def __init__(self, marque, couleur):\n",
    "        self.marque = marque\n",
    "        self.couleurVoiture = couleur\n",
    "        self.vitesse = 0\n",
    "    #double underscore = DUNDER\n",
    "    \n",
    "    def demarrer(self):\n",
    "        print('La voiture a démarré.')\n",
    "        \n",
    "    def rouler(self, vitesse):\n",
    "        try:\n",
    "            self.vitesse = float(vitesse)\n",
    "        except:\n",
    "            print(f'Vitesse invalide.')\n",
    "        print(f'La voiture roule à {self.vitesse} à l\\'heure')\n",
    "        \n",
    "    def arreter(self):\n",
    "        print('Arrêt de voiture en cours...')\n",
    "        self.vitesse = 0\n",
    "        print('La voiture est arretée.')\n"
   ]
  },
  {
   "cell_type": "markdown",
   "metadata": {},
   "source": [
    "<h3>Création des objets d'une classe</h3>"
   ]
  },
  {
   "cell_type": "code",
   "execution_count": 14,
   "metadata": {},
   "outputs": [
    {
     "name": "stdout",
     "output_type": "stream",
     "text": [
      "La voiture a démarré.\n",
      "La voiture roule à 40.0 à l'heure\n",
      "Arrêt de voiture en cours...\n",
      "La voiture est arretée.\n",
      "La voiture a démarré.\n",
      "Vitesse invalide.\n",
      "La voiture roule à 0 à l'heure\n"
     ]
    }
   ],
   "source": [
    "\n",
    "v1 = Vehicule('Toyota', 'Grise')\n",
    "v1.demarrer()\n",
    "v1.rouler(40)\n",
    "v1.arreter()\n",
    "\n",
    "v2 = Vehicule('toyota', 'rouge')\n",
    "v3 = Vehicule('suzuki', 'noire')\n",
    "\n",
    "v2.demarrer()\n",
    "v2.rouler('80Km/h')\n"
   ]
  },
  {
   "cell_type": "code",
   "execution_count": null,
   "metadata": {},
   "outputs": [],
   "source": []
  }
 ],
 "metadata": {
  "interpreter": {
   "hash": "ac59ebe37160ed0dfa835113d9b8498d9f09ceb179beaac4002f036b9467c963"
  },
  "kernelspec": {
   "display_name": "Python 3 (ipykernel)",
   "language": "python",
   "name": "python3"
  },
  "language_info": {
   "codemirror_mode": {
    "name": "ipython",
    "version": 3
   },
   "file_extension": ".py",
   "mimetype": "text/x-python",
   "name": "python",
   "nbconvert_exporter": "python",
   "pygments_lexer": "ipython3",
   "version": "3.9.7"
  }
 },
 "nbformat": 4,
 "nbformat_minor": 4
}
