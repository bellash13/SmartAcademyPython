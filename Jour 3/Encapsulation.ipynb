{
 "cells": [
  {
   "cell_type": "code",
   "execution_count": 1,
   "metadata": {},
   "outputs": [],
   "source": [
    "class Vehicule:\n",
    "    pass\n"
   ]
  },
  {
   "cell_type": "code",
   "execution_count": 2,
   "metadata": {},
   "outputs": [],
   "source": [
    "v1 = Vehicule()"
   ]
  },
  {
   "cell_type": "code",
   "execution_count": 3,
   "metadata": {},
   "outputs": [
    {
     "data": {
      "text/plain": [
       "__main__.Vehicule"
      ]
     },
     "execution_count": 3,
     "metadata": {},
     "output_type": "execute_result"
    }
   ],
   "source": [
    "type(v1)"
   ]
  },
  {
   "cell_type": "code",
   "execution_count": 4,
   "metadata": {},
   "outputs": [
    {
     "data": {
      "text/plain": [
       "int"
      ]
     },
     "execution_count": 4,
     "metadata": {},
     "output_type": "execute_result"
    }
   ],
   "source": [
    "age = 18\n",
    "\n",
    "type(age)"
   ]
  },
  {
   "cell_type": "code",
   "execution_count": 5,
   "metadata": {},
   "outputs": [
    {
     "data": {
      "text/plain": [
       "type"
      ]
     },
     "execution_count": 5,
     "metadata": {},
     "output_type": "execute_result"
    }
   ],
   "source": [
    "type(int)"
   ]
  },
  {
   "cell_type": "code",
   "execution_count": 6,
   "metadata": {},
   "outputs": [
    {
     "data": {
      "text/plain": [
       "type"
      ]
     },
     "execution_count": 6,
     "metadata": {},
     "output_type": "execute_result"
    }
   ],
   "source": [
    "type(type)"
   ]
  },
  {
   "cell_type": "code",
   "execution_count": 7,
   "metadata": {},
   "outputs": [
    {
     "name": "stdout",
     "output_type": "stream",
     "text": [
      "constructeur appelé.\n",
      "Le vehicule a demarre\n"
     ]
    }
   ],
   "source": [
    "class Vehicule:\n",
    "    ##def __new__(cls):\n",
    "      ##  print('Définition de la classe')\n",
    "      ##  return super(cls)\n",
    "    def __init__(self):\n",
    "        print('constructeur appelé.')\n",
    "    def demarrer(self):\n",
    "        print('Le vehicule a demarre')\n",
    "\n",
    "v1 = Vehicule()\n",
    "v1.demarrer()"
   ]
  },
  {
   "cell_type": "code",
   "execution_count": 8,
   "metadata": {},
   "outputs": [],
   "source": [
    "class Abonne:\n",
    "    def __init__(self, numero, iccid, nom):\n",
    "        self.numero = numero\n",
    "        self.iccid = iccid\n",
    "        self.nom = nom\n",
    "    \n",
    "    def __str__(self):\n",
    "        return(f'Abonné {self.numero}')\n",
    "    \n",
    "    def __repr__(self):\n",
    "        return(f'Abonné {self.numero}')\n",
    "        "
   ]
  },
  {
   "cell_type": "code",
   "execution_count": 9,
   "metadata": {},
   "outputs": [
    {
     "name": "stdout",
     "output_type": "stream",
     "text": [
      "[Abonné 0, Abonné 1, Abonné 2, Abonné 3, Abonné 4, Abonné 5, Abonné 6, Abonné 7, Abonné 8, Abonné 9]\n"
     ]
    }
   ],
   "source": [
    "\n",
    "a = Abonne('0898900675', '243898900675', 'Marc')\n",
    "abonnes = []\n",
    "for i in range(0, 10):\n",
    "    a = Abonne(str(i), '243'+str(i), 'Abonne '+str(i))\n",
    "    abonnes.append(a)\n",
    "\n",
    "print(abonnes)"
   ]
  },
  {
   "cell_type": "code",
   "execution_count": null,
   "metadata": {},
   "outputs": [],
   "source": []
  },
  {
   "cell_type": "code",
   "execution_count": null,
   "metadata": {},
   "outputs": [],
   "source": []
  }
 ],
 "metadata": {
  "kernelspec": {
   "display_name": "Python 3 (ipykernel)",
   "language": "python",
   "name": "python3"
  },
  "language_info": {
   "codemirror_mode": {
    "name": "ipython",
    "version": 3
   },
   "file_extension": ".py",
   "mimetype": "text/x-python",
   "name": "python",
   "nbconvert_exporter": "python",
   "pygments_lexer": "ipython3",
   "version": "3.9.7"
  }
 },
 "nbformat": 4,
 "nbformat_minor": 4
}
