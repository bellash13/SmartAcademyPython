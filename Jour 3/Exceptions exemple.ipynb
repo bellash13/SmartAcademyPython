{
 "cells": [
  {
   "cell_type": "code",
   "execution_count": null,
   "metadata": {},
   "outputs": [],
   "source": [
    "try:\n",
    "    age = int(input(\"Veuillez taper votre age: \"))\n",
    "    print(f'Votre age est {age}')\n",
    "except ValueError:   \n",
    "    print(\"Vous n'avez pas saisi un age valide.\")\n",
    "except:   \n",
    "    print(\"Une erreur inattendue est survenue.\")\n"
   ]
  },
  {
   "cell_type": "code",
   "execution_count": 6,
   "metadata": {},
   "outputs": [
    {
     "name": "stdin",
     "output_type": "stream",
     "text": [
      "Veuillez taper votre age:  18\n",
      "Veuillez taper votre poids:  0\n"
     ]
    },
    {
     "name": "stdout",
     "output_type": "stream",
     "text": [
      "Le poids ne peut être zéro division by zero.\n"
     ]
    }
   ],
   "source": [
    "try:\n",
    "    age = int(input(\"Veuillez taper votre age: \"))\n",
    "    poids = int(input(\"Veuillez taper votre poids: \"))\n",
    "    croissance = age / poids\n",
    "    print(f'Votre age est {age}, poids {poids}, la croissance est {croissance}')\n",
    "except ValueError:   \n",
    "    print(\"Vous n'avez pas saisi un age valide.\")\n",
    "except ZeroDivisionError as e:\n",
    "    print(f'Le poids ne peut être zéro, {e}.')\n",
    "except:  \n",
    "    print(\"Une erreur inattendue est survenue.\")"
   ]
  },
  {
   "cell_type": "code",
   "execution_count": 9,
   "metadata": {},
   "outputs": [],
   "source": [
    "import math"
   ]
  },
  {
   "cell_type": "code",
   "execution_count": 11,
   "metadata": {},
   "outputs": [
    {
     "name": "stdout",
     "output_type": "stream",
     "text": [
      "Help on built-in function sqrt in module math:\n",
      "\n",
      "sqrt(x, /)\n",
      "    Return the square root of x.\n",
      "\n",
      "Help on function hello in module __main__:\n",
      "\n",
      "hello()\n",
      "\n"
     ]
    }
   ],
   "source": [
    "help(math.sqrt)\n"
   ]
  },
  {
   "cell_type": "code",
   "execution_count": 18,
   "metadata": {},
   "outputs": [],
   "source": [
    "##\n",
    "#def hello():\n",
    "#    '''\n",
    "#    Dire bonjour \n",
    "#    '''\n",
    "#    return 'bonjour'\n",
    "\n",
    "#help(hello)"
   ]
  },
  {
   "cell_type": "code",
   "execution_count": null,
   "metadata": {},
   "outputs": [],
   "source": []
  }
 ],
 "metadata": {
  "kernelspec": {
   "display_name": "Python 3",
   "language": "python",
   "name": "python3"
  },
  "language_info": {
   "codemirror_mode": {
    "name": "ipython",
    "version": 3
   },
   "file_extension": ".py",
   "mimetype": "text/x-python",
   "name": "python",
   "nbconvert_exporter": "python",
   "pygments_lexer": "ipython3",
   "version": "3.8.1"
  }
 },
 "nbformat": 4,
 "nbformat_minor": 4
}
