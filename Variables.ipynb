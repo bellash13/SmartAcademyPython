{
 "cells": [
  {
   "cell_type": "code",
   "execution_count": 15,
   "id": "8fc4cccd-89d4-4bbf-aa89-24dffd2ab5a6",
   "metadata": {},
   "outputs": [
    {
     "name": "stdout",
     "output_type": "stream",
     "text": [
      "35\n"
     ]
    }
   ],
   "source": [
    "monAge = 35 #int, integer, entiers relatifs\n",
    "print(monAge) "
   ]
  },
  {
   "cell_type": "code",
   "execution_count": 16,
   "id": "56397b67-0f78-4e5c-81cb-57a08809e1e2",
   "metadata": {},
   "outputs": [
    {
     "name": "stdout",
     "output_type": "stream",
     "text": [
      "Theodor Bellash\n"
     ]
    }
   ],
   "source": [
    "MonNom = 'Theodor Bellash' #str, string, chaine de caractères\n",
    "print(monNom)\n"
   ]
  },
  {
   "cell_type": "code",
   "execution_count": 17,
   "id": "1217cb3e-eb0c-4486-9c35-f544e7213f59",
   "metadata": {},
   "outputs": [
    {
     "name": "stdout",
     "output_type": "stream",
     "text": [
      "True\n"
     ]
    }
   ],
   "source": [
    "\n",
    "suisJeMajeur = (monAge >= 18) #bool, boolean, True ou False\n",
    "print(suisJeMajeur)\n"
   ]
  },
  {
   "cell_type": "code",
   "execution_count": 18,
   "id": "16a53184-b47c-4348-8f51-1260c552985a",
   "metadata": {},
   "outputs": [
    {
     "name": "stdout",
     "output_type": "stream",
     "text": [
      "8.5\n"
     ]
    }
   ],
   "source": [
    "\n",
    "prix = 8.5 #float, nombre à virgule flottante\n",
    "print(prix)"
   ]
  },
  {
   "cell_type": "code",
   "execution_count": 21,
   "id": "bca22b89-15cb-4873-bd82-a1c0e51d0627",
   "metadata": {},
   "outputs": [
    {
     "name": "stdout",
     "output_type": "stream",
     "text": [
      "Mon nom est Theodor Bellash\n"
     ]
    }
   ],
   "source": [
    "print(f'Mon nom est {monNom}')"
   ]
  },
  {
   "cell_type": "code",
   "execution_count": 23,
   "id": "a94bb21d-d80d-4029-b48c-ff0a777c5b46",
   "metadata": {},
   "outputs": [
    {
     "name": "stdout",
     "output_type": "stream",
     "text": [
      "Mon age est 35 Suis-je majeur True\n"
     ]
    }
   ],
   "source": [
    "print(f'Mon age est {monAge} Suis-je majeur {suisJeMajeur}')"
   ]
  },
  {
   "cell_type": "code",
   "execution_count": 24,
   "id": "e98b36aa-283a-48d8-92da-d8fa99deb5d9",
   "metadata": {},
   "outputs": [
    {
     "name": "stdout",
     "output_type": "stream",
     "text": [
      "Mon nom est Theodor Bellash, j'ai 35 ans et je suis majeur True\n"
     ]
    }
   ],
   "source": [
    "print(f\"Mon nom est {monNom}, j'ai {monAge} ans et je suis majeur {suisJeMajeur}\")"
   ]
  },
  {
   "cell_type": "code",
   "execution_count": null,
   "id": "5bfb447e-eabd-45d0-96c6-418cadccb652",
   "metadata": {},
   "outputs": [],
   "source": []
  }
 ],
 "metadata": {
  "kernelspec": {
   "display_name": "Python 3 (ipykernel)",
   "language": "python",
   "name": "python3"
  },
  "language_info": {
   "codemirror_mode": {
    "name": "ipython",
    "version": 3
   },
   "file_extension": ".py",
   "mimetype": "text/x-python",
   "name": "python",
   "nbconvert_exporter": "python",
   "pygments_lexer": "ipython3",
   "version": "3.9.7"
  }
 },
 "nbformat": 4,
 "nbformat_minor": 5
}
