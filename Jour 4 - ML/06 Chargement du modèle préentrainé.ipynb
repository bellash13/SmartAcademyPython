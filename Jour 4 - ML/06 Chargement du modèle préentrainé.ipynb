{
 "cells": [
  {
   "cell_type": "markdown",
   "id": "9fd1850d-850b-4a57-b56c-cd32949ad3ad",
   "metadata": {},
   "source": [
    "<h1>Chargement du modèle préentrainé</h1>"
   ]
  },
  {
   "cell_type": "code",
   "execution_count": 1,
   "id": "42737821-6076-4470-8593-312ec87e44f4",
   "metadata": {},
   "outputs": [],
   "source": [
    "import joblib"
   ]
  },
  {
   "cell_type": "code",
   "execution_count": 2,
   "id": "3a4160ca-8049-4bd5-ba2e-083dc7f47297",
   "metadata": {},
   "outputs": [],
   "source": [
    "chemin ='assets/artistesPreferes.joblib'\n",
    "model = joblib.load(chemin)"
   ]
  },
  {
   "cell_type": "code",
   "execution_count": 3,
   "id": "66fa3fbb-c461-4f3b-9497-947ca952b71d",
   "metadata": {},
   "outputs": [
    {
     "name": "stderr",
     "output_type": "stream",
     "text": [
      "C:\\Users\\theodor\\AppData\\Roaming\\Python\\Python39\\site-packages\\sklearn\\base.py:441: UserWarning: X does not have valid feature names, but DecisionTreeClassifier was fitted with feature names\n",
      "  warnings.warn(\n"
     ]
    },
    {
     "data": {
      "text/plain": [
       "array(['Fally Ipupa'], dtype=object)"
      ]
     },
     "execution_count": 3,
     "metadata": {},
     "output_type": "execute_result"
    }
   ],
   "source": [
    "predictions = model.predict([[24,0]])\n",
    "predictions"
   ]
  },
  {
   "cell_type": "code",
   "execution_count": null,
   "id": "f81864fc-fd94-41aa-9cd7-485993154791",
   "metadata": {},
   "outputs": [],
   "source": []
  }
 ],
 "metadata": {
  "kernelspec": {
   "display_name": "Python 3 (ipykernel)",
   "language": "python",
   "name": "python3"
  },
  "language_info": {
   "codemirror_mode": {
    "name": "ipython",
    "version": 3
   },
   "file_extension": ".py",
   "mimetype": "text/x-python",
   "name": "python",
   "nbconvert_exporter": "python",
   "pygments_lexer": "ipython3",
   "version": "3.9.7"
  }
 },
 "nbformat": 4,
 "nbformat_minor": 5
}
