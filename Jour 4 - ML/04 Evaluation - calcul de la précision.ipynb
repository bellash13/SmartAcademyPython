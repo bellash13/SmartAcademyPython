{
 "cells": [
  {
   "cell_type": "code",
   "execution_count": 45,
   "id": "9c70ef18-f247-4d19-b160-17850276743b",
   "metadata": {},
   "outputs": [],
   "source": [
    "import pandas as pd\n",
    "from sklearn.tree import DecisionTreeClassifier\n",
    "from sklearn.model_selection import train_test_split #pour scinder les données\n",
    "from sklearn.metrics import accuracy_score #pour mesurer la précision"
   ]
  },
  {
   "cell_type": "code",
   "execution_count": 46,
   "id": "e130ef1b-80a2-464e-87ce-8b4a256f008c",
   "metadata": {},
   "outputs": [
    {
     "data": {
      "text/html": [
       "<div>\n",
       "<style scoped>\n",
       "    .dataframe tbody tr th:only-of-type {\n",
       "        vertical-align: middle;\n",
       "    }\n",
       "\n",
       "    .dataframe tbody tr th {\n",
       "        vertical-align: top;\n",
       "    }\n",
       "\n",
       "    .dataframe thead th {\n",
       "        text-align: right;\n",
       "    }\n",
       "</style>\n",
       "<table border=\"1\" class=\"dataframe\">\n",
       "  <thead>\n",
       "    <tr style=\"text-align: right;\">\n",
       "      <th></th>\n",
       "      <th>Age</th>\n",
       "      <th>Sexe</th>\n",
       "      <th>Artiste</th>\n",
       "    </tr>\n",
       "  </thead>\n",
       "  <tbody>\n",
       "    <tr>\n",
       "      <th>0</th>\n",
       "      <td>20</td>\n",
       "      <td>1</td>\n",
       "      <td>Innocent Balume</td>\n",
       "    </tr>\n",
       "    <tr>\n",
       "      <th>1</th>\n",
       "      <td>23</td>\n",
       "      <td>1</td>\n",
       "      <td>Innocent Balume</td>\n",
       "    </tr>\n",
       "    <tr>\n",
       "      <th>2</th>\n",
       "      <td>23</td>\n",
       "      <td>0</td>\n",
       "      <td>Fally Ipupa</td>\n",
       "    </tr>\n",
       "    <tr>\n",
       "      <th>3</th>\n",
       "      <td>23</td>\n",
       "      <td>0</td>\n",
       "      <td>Fally Ipupa</td>\n",
       "    </tr>\n",
       "    <tr>\n",
       "      <th>4</th>\n",
       "      <td>23</td>\n",
       "      <td>0</td>\n",
       "      <td>Fally Ipupa</td>\n",
       "    </tr>\n",
       "  </tbody>\n",
       "</table>\n",
       "</div>"
      ],
      "text/plain": [
       "   Age  Sexe          Artiste\n",
       "0   20     1  Innocent Balume\n",
       "1   23     1  Innocent Balume\n",
       "2   23     0      Fally Ipupa\n",
       "3   23     0      Fally Ipupa\n",
       "4   23     0      Fally Ipupa"
      ]
     },
     "execution_count": 46,
     "metadata": {},
     "output_type": "execute_result"
    }
   ],
   "source": [
    "chemin = 'assets/users-musics.csv'\n",
    "data = pd.read_csv(chemin)\n",
    "data.head()"
   ]
  },
  {
   "cell_type": "code",
   "execution_count": 47,
   "id": "b74ff161-0337-411e-ae96-82e8f7652777",
   "metadata": {},
   "outputs": [],
   "source": [
    "X = data.drop(columns=['Artiste'])\n",
    "y= data['Artiste']"
   ]
  },
  {
   "cell_type": "code",
   "execution_count": 56,
   "id": "fd3b1bad-4b83-4325-a1ba-d26ef2b9270e",
   "metadata": {},
   "outputs": [],
   "source": [
    "train = train_test_split(X, y, test_size=0.1) \n",
    "#test_size=0.1 afin d'effectuer le test avec 10% des données et \n",
    "#90% des données pour l'apprentissage\n",
    "X_train = train[0]\n",
    "X_test = train[1]\n",
    "y_train = train[2]\n",
    "y_test = train[3]"
   ]
  },
  {
   "cell_type": "code",
   "execution_count": 60,
   "id": "67bed1e6-b37a-4c72-9d7f-fcdd1cd6a2b2",
   "metadata": {},
   "outputs": [],
   "source": [
    "model = DecisionTreeClassifier()\n",
    "model.fit(X_train, y_train)\n",
    "predictions = model.predict(X_test)"
   ]
  },
  {
   "cell_type": "code",
   "execution_count": 61,
   "id": "3b8977fa-31ea-417a-b35a-9f738a9842a2",
   "metadata": {},
   "outputs": [
    {
     "data": {
      "text/plain": [
       "1.0"
      ]
     },
     "execution_count": 61,
     "metadata": {},
     "output_type": "execute_result"
    }
   ],
   "source": [
    "precision = accuracy_score(y_test, predictions)\n",
    "precision"
   ]
  },
  {
   "cell_type": "code",
   "execution_count": 65,
   "id": "0a3607d9-0652-439c-a3c4-30c7c69aec3e",
   "metadata": {},
   "outputs": [
    {
     "name": "stderr",
     "output_type": "stream",
     "text": [
      "C:\\Users\\theodor\\AppData\\Roaming\\Python\\Python39\\site-packages\\sklearn\\base.py:441: UserWarning: X does not have valid feature names, but DecisionTreeClassifier was fitted with feature names\n",
      "  warnings.warn(\n"
     ]
    },
    {
     "data": {
      "text/plain": [
       "array(['Fally Ipupa'], dtype=object)"
      ]
     },
     "execution_count": 65,
     "metadata": {},
     "output_type": "execute_result"
    }
   ],
   "source": [
    "model.predict([['21', 0]])"
   ]
  },
  {
   "cell_type": "code",
   "execution_count": null,
   "id": "cc5a5ad1-27ab-463c-9efb-2a219f29a981",
   "metadata": {},
   "outputs": [],
   "source": []
  }
 ],
 "metadata": {
  "kernelspec": {
   "display_name": "Python 3 (ipykernel)",
   "language": "python",
   "name": "python3"
  },
  "language_info": {
   "codemirror_mode": {
    "name": "ipython",
    "version": 3
   },
   "file_extension": ".py",
   "mimetype": "text/x-python",
   "name": "python",
   "nbconvert_exporter": "python",
   "pygments_lexer": "ipython3",
   "version": "3.9.7"
  }
 },
 "nbformat": 4,
 "nbformat_minor": 5
}
