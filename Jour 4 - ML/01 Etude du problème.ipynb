{
 "cells": [
  {
   "cell_type": "markdown",
   "id": "d39fe17a-340f-482c-97f8-21c8b23cb1d5",
   "metadata": {},
   "source": [
    "<h1>Etude du problème</h1>"
   ]
  },
  {
   "cell_type": "markdown",
   "id": "7a6d6051-1119-43e1-b428-6bea2fd28626",
   "metadata": {},
   "source": [
    "Nous désirons concevoir un programme d'intelligence artificielle qui nous permet de prédire l'artiste préféré de l'utilisateur en fonction de son age et son sexe.\n",
    "\n",
    "Pour cela le programme se présentera comme suit:\n",
    "\n",
    "Le programme salue l'utilisateur<br/>\n",
    "Le programme demande à l'utilisateur de taper son nom puis appuyer sur ENTER<br/>\n",
    "Le programme demande encore à l'utilisateur de saisir son age puis appuyer sur ENTER<br/>\n",
    "Tant que l'utilisateur ne saisit pas un age valide, c'est à dire un nombre compris entre 13 et 80 ans, le programme ne devrait pas continuer<br/>\n",
    "Si l'utilisateur saisit un age valide, le programme continue à l'étape suivante<br/>\n",
    "Le programe demande à l'utilisateur de saisir son sexe puis appuyer sur ENTER<br/>\n",
    "Tant que l'utlisateur n'a pas saisi un sexe valide, c'est à dire la lettre M ou F, le programme ne devrait pas continuer.<br/>\n",
    "Si l'utilisateur saisit un sexe valide, le programme devrait continuer<br/>\n",
    "Le programme calcule/détermine l'artiste préféré de l'utilisateur ainsi que le niveau de précision.<br/>\n",
    "Si le niveau de précision est supérieur à 80%, alors le programme affiche avec exactitude, l'artiste préféré de l'utilisateur.<br/><br/><br/>\n",
    "<p>&nbsp;</p><p>&nbsp;</p>\n",
    "<p><em>Utiliser les notions du cours de la journée afin de réaliser ce projet.</em></p>"
   ]
  },
  {
   "cell_type": "code",
   "execution_count": null,
   "id": "eceabb0c-5fc2-41a6-afb7-3923ee93cb20",
   "metadata": {},
   "outputs": [],
   "source": []
  }
 ],
 "metadata": {
  "kernelspec": {
   "display_name": "Python 3 (ipykernel)",
   "language": "python",
   "name": "python3"
  },
  "language_info": {
   "codemirror_mode": {
    "name": "ipython",
    "version": 3
   },
   "file_extension": ".py",
   "mimetype": "text/x-python",
   "name": "python",
   "nbconvert_exporter": "python",
   "pygments_lexer": "ipython3",
   "version": "3.9.7"
  }
 },
 "nbformat": 4,
 "nbformat_minor": 5
}
