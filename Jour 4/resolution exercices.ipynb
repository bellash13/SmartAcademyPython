{
 "cells": [
  {
   "cell_type": "code",
   "execution_count": 5,
   "id": "b6205c4d-70da-4c4b-bdb5-d98d220a64ad",
   "metadata": {},
   "outputs": [
    {
     "data": {
      "text/plain": [
       "285"
      ]
     },
     "execution_count": 5,
     "metadata": {},
     "output_type": "execute_result"
    }
   ],
   "source": [
    "def somme_carrees(*nombres):\n",
    "    somme = 0\n",
    "    for nombre in nombres:\n",
    "        somme += nombre * nombre\n",
    "    return somme\n",
    "\n",
    "somme_carrees(0,1,2,3,4,5,6,7,8,9)"
   ]
  },
  {
   "cell_type": "code",
   "execution_count": 6,
   "id": "63fe8486-7500-437d-a20e-5703e11e0921",
   "metadata": {},
   "outputs": [],
   "source": [
    "liste = []\n",
    "\n",
    "for indice in range(len(liste)):\n",
    "    elementEnCours = liste[indice]\n",
    "\n",
    "for element in liste:\n",
    "    elementEnCours = element\n",
    "    pass"
   ]
  },
  {
   "cell_type": "markdown",
   "id": "c75192c9-9c3a-4a0c-af86-9cd8e7c80570",
   "metadata": {},
   "source": [
    "<strong>Résolution des équations du second dégré.</strong>"
   ]
  },
  {
   "cell_type": "code",
   "execution_count": 22,
   "id": "6bed06de-f657-4148-ad7a-1111b54ddfc1",
   "metadata": {},
   "outputs": [],
   "source": [
    "import math\n",
    "\n",
    "def resoudre(**equation):\n",
    "    a = equation['a']\n",
    "    b = equation['b']\n",
    "    c = equation['c']\n",
    "    #calcul du discriminant\n",
    "    delta =( b*b) - (4*a*c)\n",
    "    \n",
    "    if delta > 0 :\n",
    "        x1 = (-b + math.sqrt(delta))/(2*a)\n",
    "        x2 = (-b - math.sqrt(delta))/(2*a)\n",
    "        return (x1, x2)\n",
    "    \n",
    "    elif delta == 0:\n",
    "        x12 = -b/(2*a)\n",
    "        return (x12,)\n",
    "    \n",
    "    else :\n",
    "        print(f'Solution impossible dans R')"
   ]
  },
  {
   "cell_type": "code",
   "execution_count": 21,
   "id": "1887ae4a-aec1-43cd-9340-4723db12f205",
   "metadata": {},
   "outputs": [
    {
     "data": {
      "text/plain": [
       "(-1.0,)"
      ]
     },
     "execution_count": 21,
     "metadata": {},
     "output_type": "execute_result"
    }
   ],
   "source": [
    "resoudre(c=1,b=2,a=1)"
   ]
  },
  {
   "cell_type": "code",
   "execution_count": null,
   "id": "a0c5c68a-4602-4290-b678-aa1ad92912b2",
   "metadata": {},
   "outputs": [],
   "source": []
  },
  {
   "cell_type": "code",
   "execution_count": null,
   "id": "8c24cfec-de03-49f9-b1a5-372191b53c6e",
   "metadata": {},
   "outputs": [],
   "source": []
  }
 ],
 "metadata": {
  "kernelspec": {
   "display_name": "Python 3 (ipykernel)",
   "language": "python",
   "name": "python3"
  },
  "language_info": {
   "codemirror_mode": {
    "name": "ipython",
    "version": 3
   },
   "file_extension": ".py",
   "mimetype": "text/x-python",
   "name": "python",
   "nbconvert_exporter": "python",
   "pygments_lexer": "ipython3",
   "version": "3.9.7"
  }
 },
 "nbformat": 4,
 "nbformat_minor": 5
}
