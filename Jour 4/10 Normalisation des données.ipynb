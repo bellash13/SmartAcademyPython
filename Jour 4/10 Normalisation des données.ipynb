{
 "cells": [
  {
   "cell_type": "markdown",
   "id": "c266995d-036d-42ba-88a4-70a7432d3c9b",
   "metadata": {},
   "source": [
    "<h1>Normalisation</h2>\n",
    "<p>Pour obtenir la valeur normalisée, nous appliquons la formule ci-dessous</p>\n"
   ]
  },
  {
   "cell_type": "code",
   "execution_count": 1,
   "id": "fb27fff6-081f-464b-8006-f43e8977cc9a",
   "metadata": {},
   "outputs": [],
   "source": [
    "import pandas as pd\n",
    "chemin = 'assets/artistes_data.csv'\n",
    "df = pd.read_csv(chemin)"
   ]
  },
  {
   "cell_type": "markdown",
   "id": "90f498f8-c868-4d85-9f68-536c76c54b03",
   "metadata": {},
   "source": [
    "Pour afficher les 5 premières lignes"
   ]
  },
  {
   "cell_type": "code",
   "execution_count": 10,
   "id": "b111a664-9bed-4f05-82be-a958d5c309d2",
   "metadata": {},
   "outputs": [
    {
     "data": {
      "text/html": [
       "<div>\n",
       "<style scoped>\n",
       "    .dataframe tbody tr th:only-of-type {\n",
       "        vertical-align: middle;\n",
       "    }\n",
       "\n",
       "    .dataframe tbody tr th {\n",
       "        vertical-align: top;\n",
       "    }\n",
       "\n",
       "    .dataframe thead th {\n",
       "        text-align: right;\n",
       "    }\n",
       "</style>\n",
       "<table border=\"1\" class=\"dataframe\">\n",
       "  <thead>\n",
       "    <tr style=\"text-align: right;\">\n",
       "      <th></th>\n",
       "      <th>Unnamed: 0</th>\n",
       "      <th>Artiste</th>\n",
       "      <th>Vues</th>\n",
       "      <th>Genre</th>\n",
       "      <th>Age</th>\n",
       "      <th>Fortune</th>\n",
       "    </tr>\n",
       "  </thead>\n",
       "  <tbody>\n",
       "    <tr>\n",
       "      <th>0</th>\n",
       "      <td>0</td>\n",
       "      <td>Moise Mbiye</td>\n",
       "      <td>400000</td>\n",
       "      <td>Homme</td>\n",
       "      <td>44</td>\n",
       "      <td>400000.0</td>\n",
       "    </tr>\n",
       "    <tr>\n",
       "      <th>1</th>\n",
       "      <td>1</td>\n",
       "      <td>Bakenda Michel</td>\n",
       "      <td>52220</td>\n",
       "      <td>Homme</td>\n",
       "      <td>33</td>\n",
       "      <td>43000.0</td>\n",
       "    </tr>\n",
       "    <tr>\n",
       "      <th>2</th>\n",
       "      <td>2</td>\n",
       "      <td>Fally Ipupa</td>\n",
       "      <td>1800000</td>\n",
       "      <td>Homme</td>\n",
       "      <td>41</td>\n",
       "      <td>2000000.0</td>\n",
       "    </tr>\n",
       "    <tr>\n",
       "      <th>3</th>\n",
       "      <td>3</td>\n",
       "      <td>Petit Fally</td>\n",
       "      <td>6000</td>\n",
       "      <td>Homme</td>\n",
       "      <td>17</td>\n",
       "      <td>1700.0</td>\n",
       "    </tr>\n",
       "    <tr>\n",
       "      <th>4</th>\n",
       "      <td>4</td>\n",
       "      <td>Ferré Gola</td>\n",
       "      <td>7000</td>\n",
       "      <td>H</td>\n",
       "      <td>43</td>\n",
       "      <td>430000.0</td>\n",
       "    </tr>\n",
       "  </tbody>\n",
       "</table>\n",
       "</div>"
      ],
      "text/plain": [
       "   Unnamed: 0         Artiste     Vues  Genre  Age    Fortune\n",
       "0           0     Moise Mbiye   400000  Homme   44   400000.0\n",
       "1           1  Bakenda Michel    52220  Homme   33    43000.0\n",
       "2           2     Fally Ipupa  1800000  Homme   41  2000000.0\n",
       "3           3     Petit Fally     6000  Homme   17     1700.0\n",
       "4           4      Ferré Gola     7000      H   43   430000.0"
      ]
     },
     "execution_count": 10,
     "metadata": {},
     "output_type": "execute_result"
    }
   ],
   "source": [
    "df.head()"
   ]
  },
  {
   "cell_type": "markdown",
   "id": "beac39ee-46ea-4c22-b177-b3184ff62192",
   "metadata": {},
   "source": [
    "Pour afficher l'age moyen des artistes"
   ]
  },
  {
   "cell_type": "code",
   "execution_count": 11,
   "id": "971fbfc7-ea26-4a06-b644-673cdc3f1f01",
   "metadata": {},
   "outputs": [
    {
     "data": {
      "text/plain": [
       "39.3"
      ]
     },
     "execution_count": 11,
     "metadata": {},
     "output_type": "execute_result"
    }
   ],
   "source": [
    "df.Age.mean() \n"
   ]
  },
  {
   "cell_type": "markdown",
   "id": "225958b9-6de5-4925-8f9b-72db0650d592",
   "metadata": {},
   "source": [
    "Pour afficher la fortune moyenne"
   ]
  },
  {
   "cell_type": "code",
   "execution_count": 12,
   "id": "6dca8ff6-bbe4-4e95-9ee3-08ed4b6168e3",
   "metadata": {},
   "outputs": [
    {
     "data": {
      "text/plain": [
       "814470.0"
      ]
     },
     "execution_count": 12,
     "metadata": {},
     "output_type": "execute_result"
    }
   ],
   "source": [
    "df.Fortune.mean()\n"
   ]
  },
  {
   "cell_type": "markdown",
   "id": "ea3f1f3b-4338-4916-a0a3-fd3befe93e3c",
   "metadata": {},
   "source": [
    "Pour trouver la déviation standard"
   ]
  },
  {
   "cell_type": "code",
   "execution_count": 13,
   "id": "17226aa6-5cbe-409a-9282-45e753149f75",
   "metadata": {},
   "outputs": [
    {
     "data": {
      "text/plain": [
       "14.213061285701652"
      ]
     },
     "execution_count": 13,
     "metadata": {},
     "output_type": "execute_result"
    }
   ],
   "source": [
    "df.Age.std()"
   ]
  },
  {
   "cell_type": "markdown",
   "id": "0505ed70-7308-4406-8a3e-c27ff5a8e8ca",
   "metadata": {},
   "source": [
    "Pour trouver la valeur normaliser de chaque ligne des données"
   ]
  },
  {
   "cell_type": "code",
   "execution_count": 15,
   "id": "58bd8c18-8ae6-4158-8f32-13712b602a11",
   "metadata": {},
   "outputs": [
    {
     "data": {
      "text/plain": [
       "0    0.330682\n",
       "1   -0.443254\n",
       "2    0.119608\n",
       "3   -1.568979\n",
       "4    0.260324\n",
       "5   -0.935759\n",
       "6   -0.865401\n",
       "7    1.315691\n",
       "8    0.119608\n",
       "9    1.667480\n",
       "Name: Age, dtype: float64"
      ]
     },
     "execution_count": 15,
     "metadata": {},
     "output_type": "execute_result"
    }
   ],
   "source": [
    "norm = (age -age.mean())/ age.std()\n",
    "norm"
   ]
  },
  {
   "cell_type": "code",
   "execution_count": null,
   "id": "a79d67c3-b908-4dc2-87e8-6b7f6f71a268",
   "metadata": {},
   "outputs": [],
   "source": []
  }
 ],
 "metadata": {
  "kernelspec": {
   "display_name": "Python 3 (ipykernel)",
   "language": "python",
   "name": "python3"
  },
  "language_info": {
   "codemirror_mode": {
    "name": "ipython",
    "version": 3
   },
   "file_extension": ".py",
   "mimetype": "text/x-python",
   "name": "python",
   "nbconvert_exporter": "python",
   "pygments_lexer": "ipython3",
   "version": "3.9.7"
  }
 },
 "nbformat": 4,
 "nbformat_minor": 5
}
