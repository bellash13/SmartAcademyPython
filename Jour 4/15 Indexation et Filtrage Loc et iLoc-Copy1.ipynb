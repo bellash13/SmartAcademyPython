{
 "cells": [
  {
   "cell_type": "markdown",
   "id": "cc0792a1-5ce1-4f40-8929-ce50b5aac500",
   "metadata": {},
   "source": [
    "<h1>Changement des index</h1>"
   ]
  },
  {
   "cell_type": "code",
   "execution_count": 4,
   "id": "3b85146c-f123-4314-a62b-e7080e4fbfbc",
   "metadata": {},
   "outputs": [
    {
     "name": "stdout",
     "output_type": "stream",
     "text": [
      "     Person      City Mother Tongue  Age\n",
      "Ja    Alice    Berlin        German   37\n",
      "Fe   Steven  Montreal        French   20\n",
      "Ma  Neesham   Toronto       English   38\n",
      "Av    Chris      Rome       Italian   23\n",
      "Ma    Alice    Munich        German   35\n"
     ]
    }
   ],
   "source": [
    "import pandas as pd\n",
    "\n",
    "df = pd.DataFrame({\n",
    "    'Person': ['Alice', 'Steven', 'Neesham', 'Chris', 'Alice'],\n",
    "    'City': ['Berlin', 'Montreal', 'Toronto', 'Rome', 'Munich'],\n",
    "    'Mother Tongue': ['German', 'French', 'English', 'Italian', 'German'],\n",
    "    'Age':  [37, 20, 38, 23, 35],\n",
    "\n",
    "},index=[\"Ja\",\"Fe\",\"Ma\",\"Av\",\"Ma\"])\n",
    "\n",
    "print(df)"
   ]
  },
  {
   "cell_type": "code",
   "execution_count": null,
   "id": "878faa2b-624d-4f5a-9970-ef30cf180ece",
   "metadata": {},
   "outputs": [
    {
     "data": {
      "text/html": [
       "<div>\n",
       "<style scoped>\n",
       "    .dataframe tbody tr th:only-of-type {\n",
       "        vertical-align: middle;\n",
       "    }\n",
       "\n",
       "    .dataframe tbody tr th {\n",
       "        vertical-align: top;\n",
       "    }\n",
       "\n",
       "    .dataframe thead th {\n",
       "        text-align: right;\n",
       "    }\n",
       "</style>\n",
       "<table border=\"1\" class=\"dataframe\">\n",
       "  <thead>\n",
       "    <tr style=\"text-align: right;\">\n",
       "      <th></th>\n",
       "      <th>Person</th>\n",
       "      <th>City</th>\n",
       "      <th>Langue</th>\n",
       "      <th>Age</th>\n",
       "    </tr>\n",
       "  </thead>\n",
       "  <tbody>\n",
       "    <tr>\n",
       "      <th>Ja</th>\n",
       "      <td>Alice</td>\n",
       "      <td>Mbujimayi</td>\n",
       "      <td>German</td>\n",
       "      <td>37</td>\n",
       "    </tr>\n",
       "    <tr>\n",
       "      <th>Fe</th>\n",
       "      <td>Steven</td>\n",
       "      <td>Kanuntshila</td>\n",
       "      <td>French</td>\n",
       "      <td>20</td>\n",
       "    </tr>\n",
       "    <tr>\n",
       "      <th>Ma</th>\n",
       "      <td>Neesham</td>\n",
       "      <td>Goma</td>\n",
       "      <td>English</td>\n",
       "      <td>38</td>\n",
       "    </tr>\n",
       "    <tr>\n",
       "      <th>Av</th>\n",
       "      <td>Chris</td>\n",
       "      <td>Bukavu</td>\n",
       "      <td>Italian</td>\n",
       "      <td>23</td>\n",
       "    </tr>\n",
       "    <tr>\n",
       "      <th>Ma</th>\n",
       "      <td>Alice</td>\n",
       "      <td>Matadi</td>\n",
       "      <td>German</td>\n",
       "      <td>35</td>\n",
       "    </tr>\n",
       "  </tbody>\n",
       "</table>\n",
       "</div>"
      ],
      "text/plain": [
       "     Person         City   Langue  Age\n",
       "Ja    Alice    Mbujimayi   German   37\n",
       "Fe   Steven  Kanuntshila   French   20\n",
       "Ma  Neesham         Goma  English   38\n",
       "Av    Chris       Bukavu  Italian   23\n",
       "Ma    Alice       Matadi   German   35"
      ]
     },
     "execution_count": 2,
     "metadata": {},
     "output_type": "execute_result"
    }
   ],
   "source": [
    "df.drop(labels=['Ma'])\n",
    "df.head()"
   ]
  },
  {
   "cell_type": "markdown",
   "id": "61629e86-4577-44a5-9c6c-9239e48bb738",
   "metadata": {},
   "source": [
    "Vous pouvez remarquer qu'il n'y aucun changement, c'est parce qu'il faut toujours utiliser <code>inplace=True</code>."
   ]
  },
  {
   "cell_type": "code",
   "execution_count": null,
   "id": "68e3586d-ac94-42de-a465-888284b71c16",
   "metadata": {},
   "outputs": [
    {
     "data": {
      "text/html": [
       "<div>\n",
       "<style scoped>\n",
       "    .dataframe tbody tr th:only-of-type {\n",
       "        vertical-align: middle;\n",
       "    }\n",
       "\n",
       "    .dataframe tbody tr th {\n",
       "        vertical-align: top;\n",
       "    }\n",
       "\n",
       "    .dataframe thead th {\n",
       "        text-align: right;\n",
       "    }\n",
       "</style>\n",
       "<table border=\"1\" class=\"dataframe\">\n",
       "  <thead>\n",
       "    <tr style=\"text-align: right;\">\n",
       "      <th></th>\n",
       "      <th>Person</th>\n",
       "      <th>City</th>\n",
       "      <th>Langue</th>\n",
       "      <th>Age</th>\n",
       "    </tr>\n",
       "  </thead>\n",
       "  <tbody>\n",
       "    <tr>\n",
       "      <th>Ja</th>\n",
       "      <td>Alice</td>\n",
       "      <td>Mbujimayi</td>\n",
       "      <td>German</td>\n",
       "      <td>37</td>\n",
       "    </tr>\n",
       "    <tr>\n",
       "      <th>Fe</th>\n",
       "      <td>Steven</td>\n",
       "      <td>Kanuntshila</td>\n",
       "      <td>French</td>\n",
       "      <td>20</td>\n",
       "    </tr>\n",
       "    <tr>\n",
       "      <th>Av</th>\n",
       "      <td>Chris</td>\n",
       "      <td>Bukavu</td>\n",
       "      <td>Italian</td>\n",
       "      <td>23</td>\n",
       "    </tr>\n",
       "  </tbody>\n",
       "</table>\n",
       "</div>"
      ],
      "text/plain": [
       "    Person         City   Langue  Age\n",
       "Ja   Alice    Mbujimayi   German   37\n",
       "Fe  Steven  Kanuntshila   French   20\n",
       "Av   Chris       Bukavu  Italian   23"
      ]
     },
     "execution_count": 3,
     "metadata": {},
     "output_type": "execute_result"
    }
   ],
   "source": [
    "df.drop(labels=['Ma'], inplace=True)\n",
    "df.head()"
   ]
  },
  {
   "cell_type": "markdown",
   "id": "37acfd9b-09f8-42d8-b469-a295ec5900ae",
   "metadata": {},
   "source": [
    "NB: Lorsque la catégorie que vous supprimezn'existe pas, une exception est générée. Penser à utiliser l'instruction <code>try except</code>."
   ]
  },
  {
   "cell_type": "code",
   "execution_count": 7,
   "id": "de986cd5-2dd5-4a02-ad8b-7f9e90917a21",
   "metadata": {},
   "outputs": [
    {
     "name": "stdout",
     "output_type": "stream",
     "text": [
      "Catégorie déjà supprimée.\n"
     ]
    }
   ],
   "source": [
    "try:\n",
    "    df.drop(labels=['Ma'], inplace=True)\n",
    "    df.head()\n",
    "except KeyError:\n",
    "    print('Catégorie déjà supprimée.')\n",
    "except:\n",
    "    print('Erreur inattendu')"
   ]
  },
  {
   "cell_type": "code",
   "execution_count": null,
   "id": "74be4fee-a3f1-42b2-bad0-358fb02e7f48",
   "metadata": {},
   "outputs": [],
   "source": []
  }
 ],
 "metadata": {
  "kernelspec": {
   "display_name": "Python 3 (ipykernel)",
   "language": "python",
   "name": "python3"
  },
  "language_info": {
   "codemirror_mode": {
    "name": "ipython",
    "version": 3
   },
   "file_extension": ".py",
   "mimetype": "text/x-python",
   "name": "python",
   "nbconvert_exporter": "python",
   "pygments_lexer": "ipython3",
   "version": "3.9.7"
  }
 },
 "nbformat": 4,
 "nbformat_minor": 5
}
