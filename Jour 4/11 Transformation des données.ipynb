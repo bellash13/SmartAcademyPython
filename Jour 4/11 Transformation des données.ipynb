{
 "cells": [
  {
   "cell_type": "markdown",
   "id": "2d0d4926-8fa5-43f9-92ba-17cb6518f028",
   "metadata": {},
   "source": [
    "<H1>Transformation des données</H1>\n",
    "<p>La transformation se fait à l'aide de la fonction <code>transform(...)</code> comme suit</p>"
   ]
  },
  {
   "cell_type": "code",
   "execution_count": 1,
   "id": "dd9aa003-0bf8-4402-8da2-9962ac6813f6",
   "metadata": {},
   "outputs": [],
   "source": [
    "import pandas as pd\n",
    "chemin = 'assets/artistes_data.csv'\n",
    "df = pd.read_csv(chemin)"
   ]
  },
  {
   "cell_type": "code",
   "execution_count": 6,
   "id": "89dbdbe4-f213-4de5-98e9-94ee52b098de",
   "metadata": {},
   "outputs": [
    {
     "name": "stdout",
     "output_type": "stream",
     "text": [
      "44\n",
      "33\n",
      "41\n",
      "17\n",
      "43\n",
      "26\n",
      "27\n",
      "58\n",
      "41\n",
      "63\n"
     ]
    },
    {
     "data": {
      "text/plain": [
       "0    None\n",
       "1    None\n",
       "2    None\n",
       "3    None\n",
       "4    None\n",
       "5    None\n",
       "6    None\n",
       "7    None\n",
       "8    None\n",
       "9    None\n",
       "Name: Age, dtype: object"
      ]
     },
     "execution_count": 6,
     "metadata": {},
     "output_type": "execute_result"
    }
   ],
   "source": [
    "df.Age.transform(lambda a: print(a))"
   ]
  },
  {
   "cell_type": "markdown",
   "id": "6093f958-0587-4146-99ef-102eeb44ca9b",
   "metadata": {},
   "source": [
    "On veut connaitre afficher le montant des contributions(taxe) à la hauteur de 30% de la fortune de chaque artiste"
   ]
  },
  {
   "cell_type": "code",
   "execution_count": 9,
   "id": "c39dd96e-e693-4148-a29f-d4d2acc2ff94",
   "metadata": {},
   "outputs": [
    {
     "data": {
      "text/plain": [
       "0    45\n",
       "1    34\n",
       "2    42\n",
       "3    18\n",
       "4    44\n",
       "5    27\n",
       "6    28\n",
       "7    59\n",
       "8    42\n",
       "9    64\n",
       "Name: Age, dtype: int64"
      ]
     },
     "execution_count": 9,
     "metadata": {},
     "output_type": "execute_result"
    }
   ],
   "source": [
    "df.Age.transform(lambda a: a+1)"
   ]
  },
  {
   "cell_type": "code",
   "execution_count": 10,
   "id": "82e18582-930f-47ea-bda3-5fae30d464fd",
   "metadata": {},
   "outputs": [
    {
     "data": {
      "text/plain": [
       "0    120000.0\n",
       "1     12900.0\n",
       "2    600000.0\n",
       "3       510.0\n",
       "4    129000.0\n",
       "5    540000.0\n",
       "6    129000.0\n",
       "7    723000.0\n",
       "8         0.0\n",
       "9    189000.0\n",
       "Name: Fortune, dtype: float64"
      ]
     },
     "execution_count": 10,
     "metadata": {},
     "output_type": "execute_result"
    }
   ],
   "source": [
    "df.Fortune.transform(lambda f: f*30/100)"
   ]
  },
  {
   "cell_type": "code",
   "execution_count": 11,
   "id": "bd947d17-7a82-426b-8040-4bbd3d8087e9",
   "metadata": {},
   "outputs": [],
   "source": [
    "df['Taxes'] = df.Fortune.transform(lambda f: f*30/100)"
   ]
  },
  {
   "cell_type": "markdown",
   "id": "6bc19051-0748-4750-9a78-54095ebbe2b6",
   "metadata": {},
   "source": [
    "Affichons maintenant chaque artiste et le montant des taxes à payer"
   ]
  },
  {
   "cell_type": "code",
   "execution_count": 12,
   "id": "c8c34c21-4e4e-42d9-b158-8225127a899b",
   "metadata": {},
   "outputs": [
    {
     "data": {
      "text/html": [
       "<div>\n",
       "<style scoped>\n",
       "    .dataframe tbody tr th:only-of-type {\n",
       "        vertical-align: middle;\n",
       "    }\n",
       "\n",
       "    .dataframe tbody tr th {\n",
       "        vertical-align: top;\n",
       "    }\n",
       "\n",
       "    .dataframe thead th {\n",
       "        text-align: right;\n",
       "    }\n",
       "</style>\n",
       "<table border=\"1\" class=\"dataframe\">\n",
       "  <thead>\n",
       "    <tr style=\"text-align: right;\">\n",
       "      <th></th>\n",
       "      <th>Artiste</th>\n",
       "      <th>Fortune</th>\n",
       "      <th>Taxes</th>\n",
       "    </tr>\n",
       "  </thead>\n",
       "  <tbody>\n",
       "    <tr>\n",
       "      <th>0</th>\n",
       "      <td>Moise Mbiye</td>\n",
       "      <td>400000.0</td>\n",
       "      <td>120000.0</td>\n",
       "    </tr>\n",
       "    <tr>\n",
       "      <th>1</th>\n",
       "      <td>Bakenda Michel</td>\n",
       "      <td>43000.0</td>\n",
       "      <td>12900.0</td>\n",
       "    </tr>\n",
       "    <tr>\n",
       "      <th>2</th>\n",
       "      <td>Fally Ipupa</td>\n",
       "      <td>2000000.0</td>\n",
       "      <td>600000.0</td>\n",
       "    </tr>\n",
       "    <tr>\n",
       "      <th>3</th>\n",
       "      <td>Petit Fally</td>\n",
       "      <td>1700.0</td>\n",
       "      <td>510.0</td>\n",
       "    </tr>\n",
       "    <tr>\n",
       "      <th>4</th>\n",
       "      <td>Ferré Gola</td>\n",
       "      <td>430000.0</td>\n",
       "      <td>129000.0</td>\n",
       "    </tr>\n",
       "    <tr>\n",
       "      <th>5</th>\n",
       "      <td>Innos-B</td>\n",
       "      <td>1800000.0</td>\n",
       "      <td>540000.0</td>\n",
       "    </tr>\n",
       "    <tr>\n",
       "      <th>6</th>\n",
       "      <td>Gaz Mawete</td>\n",
       "      <td>430000.0</td>\n",
       "      <td>129000.0</td>\n",
       "    </tr>\n",
       "    <tr>\n",
       "      <th>7</th>\n",
       "      <td>Koffi Olomide</td>\n",
       "      <td>2410000.0</td>\n",
       "      <td>723000.0</td>\n",
       "    </tr>\n",
       "    <tr>\n",
       "      <th>8</th>\n",
       "      <td>Athoms Mbuma</td>\n",
       "      <td>0.0</td>\n",
       "      <td>0.0</td>\n",
       "    </tr>\n",
       "    <tr>\n",
       "      <th>9</th>\n",
       "      <td>Tshala Mwana</td>\n",
       "      <td>630000.0</td>\n",
       "      <td>189000.0</td>\n",
       "    </tr>\n",
       "  </tbody>\n",
       "</table>\n",
       "</div>"
      ],
      "text/plain": [
       "          Artiste    Fortune     Taxes\n",
       "0     Moise Mbiye   400000.0  120000.0\n",
       "1  Bakenda Michel    43000.0   12900.0\n",
       "2     Fally Ipupa  2000000.0  600000.0\n",
       "3     Petit Fally     1700.0     510.0\n",
       "4      Ferré Gola   430000.0  129000.0\n",
       "5         Innos-B  1800000.0  540000.0\n",
       "6      Gaz Mawete   430000.0  129000.0\n",
       "7   Koffi Olomide  2410000.0  723000.0\n",
       "8    Athoms Mbuma        0.0       0.0\n",
       "9    Tshala Mwana   630000.0  189000.0"
      ]
     },
     "execution_count": 12,
     "metadata": {},
     "output_type": "execute_result"
    }
   ],
   "source": [
    "df[['Artiste', 'Fortune', 'Taxes']]"
   ]
  },
  {
   "cell_type": "markdown",
   "id": "d39794e9-826a-47fa-8eaf-45d6a7e6587f",
   "metadata": {},
   "source": [
    "Au cas où la fonction à appliquer à la transformation est assez complexe, la fonction lambda peut s'avérer moins pratique: dans ce cas vous utiliserez une fonction standard de la manière suivante."
   ]
  },
  {
   "cell_type": "code",
   "execution_count": 16,
   "id": "4135d918-d70b-4e56-a389-f642c4804165",
   "metadata": {},
   "outputs": [
    {
     "data": {
      "text/html": [
       "<div>\n",
       "<style scoped>\n",
       "    .dataframe tbody tr th:only-of-type {\n",
       "        vertical-align: middle;\n",
       "    }\n",
       "\n",
       "    .dataframe tbody tr th {\n",
       "        vertical-align: top;\n",
       "    }\n",
       "\n",
       "    .dataframe thead th {\n",
       "        text-align: right;\n",
       "    }\n",
       "</style>\n",
       "<table border=\"1\" class=\"dataframe\">\n",
       "  <thead>\n",
       "    <tr style=\"text-align: right;\">\n",
       "      <th></th>\n",
       "      <th>Artiste</th>\n",
       "      <th>Fortune</th>\n",
       "      <th>Taxes</th>\n",
       "    </tr>\n",
       "  </thead>\n",
       "  <tbody>\n",
       "    <tr>\n",
       "      <th>0</th>\n",
       "      <td>Moise Mbiye</td>\n",
       "      <td>400000.0</td>\n",
       "      <td>120000.0</td>\n",
       "    </tr>\n",
       "    <tr>\n",
       "      <th>1</th>\n",
       "      <td>Bakenda Michel</td>\n",
       "      <td>43000.0</td>\n",
       "      <td>8600.0</td>\n",
       "    </tr>\n",
       "    <tr>\n",
       "      <th>2</th>\n",
       "      <td>Fally Ipupa</td>\n",
       "      <td>2000000.0</td>\n",
       "      <td>600000.0</td>\n",
       "    </tr>\n",
       "    <tr>\n",
       "      <th>3</th>\n",
       "      <td>Petit Fally</td>\n",
       "      <td>1700.0</td>\n",
       "      <td>340.0</td>\n",
       "    </tr>\n",
       "    <tr>\n",
       "      <th>4</th>\n",
       "      <td>Ferré Gola</td>\n",
       "      <td>430000.0</td>\n",
       "      <td>129000.0</td>\n",
       "    </tr>\n",
       "    <tr>\n",
       "      <th>5</th>\n",
       "      <td>Innos-B</td>\n",
       "      <td>1800000.0</td>\n",
       "      <td>540000.0</td>\n",
       "    </tr>\n",
       "    <tr>\n",
       "      <th>6</th>\n",
       "      <td>Gaz Mawete</td>\n",
       "      <td>430000.0</td>\n",
       "      <td>129000.0</td>\n",
       "    </tr>\n",
       "    <tr>\n",
       "      <th>7</th>\n",
       "      <td>Koffi Olomide</td>\n",
       "      <td>2410000.0</td>\n",
       "      <td>723000.0</td>\n",
       "    </tr>\n",
       "    <tr>\n",
       "      <th>8</th>\n",
       "      <td>Athoms Mbuma</td>\n",
       "      <td>0.0</td>\n",
       "      <td>0.0</td>\n",
       "    </tr>\n",
       "    <tr>\n",
       "      <th>9</th>\n",
       "      <td>Tshala Mwana</td>\n",
       "      <td>630000.0</td>\n",
       "      <td>189000.0</td>\n",
       "    </tr>\n",
       "  </tbody>\n",
       "</table>\n",
       "</div>"
      ],
      "text/plain": [
       "          Artiste    Fortune     Taxes\n",
       "0     Moise Mbiye   400000.0  120000.0\n",
       "1  Bakenda Michel    43000.0    8600.0\n",
       "2     Fally Ipupa  2000000.0  600000.0\n",
       "3     Petit Fally     1700.0     340.0\n",
       "4      Ferré Gola   430000.0  129000.0\n",
       "5         Innos-B  1800000.0  540000.0\n",
       "6      Gaz Mawete   430000.0  129000.0\n",
       "7   Koffi Olomide  2410000.0  723000.0\n",
       "8    Athoms Mbuma        0.0       0.0\n",
       "9    Tshala Mwana   630000.0  189000.0"
      ]
     },
     "execution_count": 16,
     "metadata": {},
     "output_type": "execute_result"
    }
   ],
   "source": [
    "def calculer_tax(x):\n",
    "    if x > 43000:\n",
    "        return x*30/100\n",
    "    else:\n",
    "        return x*20/100\n",
    " \n",
    "df['Taxes'] = df.Fortune.transform(calculer_tax)\n",
    "df[['Artiste', 'Fortune', 'Taxes']]"
   ]
  },
  {
   "cell_type": "markdown",
   "id": "ffe49407-389c-4654-b5fe-93785646a093",
   "metadata": {},
   "source": [
    "On peut grouper les données comme suit"
   ]
  },
  {
   "cell_type": "code",
   "execution_count": 19,
   "id": "d10c4ab1-9f5a-411b-8042-590bdb6a2e6a",
   "metadata": {},
   "outputs": [
    {
     "data": {
      "text/plain": [
       "0    44\n",
       "1    33\n",
       "2    41\n",
       "3    17\n",
       "4    43\n",
       "5    26\n",
       "6    27\n",
       "7    58\n",
       "8    41\n",
       "9    63\n",
       "Name: Age, dtype: int64"
      ]
     },
     "execution_count": 19,
     "metadata": {},
     "output_type": "execute_result"
    }
   ],
   "source": [
    "df.Age"
   ]
  },
  {
   "cell_type": "code",
   "execution_count": null,
   "id": "28cc9d0f-b2f5-4141-97da-064f2c511031",
   "metadata": {},
   "outputs": [],
   "source": []
  }
 ],
 "metadata": {
  "kernelspec": {
   "display_name": "Python 3 (ipykernel)",
   "language": "python",
   "name": "python3"
  },
  "language_info": {
   "codemirror_mode": {
    "name": "ipython",
    "version": 3
   },
   "file_extension": ".py",
   "mimetype": "text/x-python",
   "name": "python",
   "nbconvert_exporter": "python",
   "pygments_lexer": "ipython3",
   "version": "3.9.7"
  }
 },
 "nbformat": 4,
 "nbformat_minor": 5
}
