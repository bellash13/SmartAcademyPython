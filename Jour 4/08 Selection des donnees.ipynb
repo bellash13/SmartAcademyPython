{
 "cells": [
  {
   "cell_type": "markdown",
   "id": "095cc064-c370-4837-ab2c-6e4ef845bf28",
   "metadata": {},
   "source": [
    "<h4>Sélection des données</h4>"
   ]
  },
  {
   "cell_type": "code",
   "execution_count": 19,
   "id": "3cc137bc-fad3-4164-980f-71521be41ab6",
   "metadata": {},
   "outputs": [],
   "source": [
    "import pandas as pd"
   ]
  },
  {
   "cell_type": "code",
   "execution_count": 20,
   "id": "0dd33cb7-ad36-4991-8e80-c21b2f5300a1",
   "metadata": {},
   "outputs": [],
   "source": [
    "chemin = 'assets/artistes_data.csv'\n",
    "df = pd.read_csv(chemin) #dataFrame"
   ]
  },
  {
   "cell_type": "code",
   "execution_count": 21,
   "id": "28be7e84-9453-4c20-a123-78b4350aac67",
   "metadata": {},
   "outputs": [
    {
     "data": {
      "text/html": [
       "<div>\n",
       "<style scoped>\n",
       "    .dataframe tbody tr th:only-of-type {\n",
       "        vertical-align: middle;\n",
       "    }\n",
       "\n",
       "    .dataframe tbody tr th {\n",
       "        vertical-align: top;\n",
       "    }\n",
       "\n",
       "    .dataframe thead th {\n",
       "        text-align: right;\n",
       "    }\n",
       "</style>\n",
       "<table border=\"1\" class=\"dataframe\">\n",
       "  <thead>\n",
       "    <tr style=\"text-align: right;\">\n",
       "      <th></th>\n",
       "      <th>Unnamed: 0</th>\n",
       "      <th>Artiste</th>\n",
       "      <th>Vues</th>\n",
       "      <th>Genre</th>\n",
       "      <th>Age</th>\n",
       "      <th>Fortune</th>\n",
       "    </tr>\n",
       "  </thead>\n",
       "  <tbody>\n",
       "    <tr>\n",
       "      <th>0</th>\n",
       "      <td>0</td>\n",
       "      <td>Moise Mbiye</td>\n",
       "      <td>400000</td>\n",
       "      <td>Homme</td>\n",
       "      <td>44</td>\n",
       "      <td>400000.0</td>\n",
       "    </tr>\n",
       "    <tr>\n",
       "      <th>1</th>\n",
       "      <td>1</td>\n",
       "      <td>Bakenda Michel</td>\n",
       "      <td>52220</td>\n",
       "      <td>Homme</td>\n",
       "      <td>33</td>\n",
       "      <td>43000.0</td>\n",
       "    </tr>\n",
       "    <tr>\n",
       "      <th>2</th>\n",
       "      <td>2</td>\n",
       "      <td>Fally Ipupa</td>\n",
       "      <td>1800000</td>\n",
       "      <td>Homme</td>\n",
       "      <td>41</td>\n",
       "      <td>2000000.0</td>\n",
       "    </tr>\n",
       "  </tbody>\n",
       "</table>\n",
       "</div>"
      ],
      "text/plain": [
       "   Unnamed: 0         Artiste     Vues  Genre  Age    Fortune\n",
       "0           0     Moise Mbiye   400000  Homme   44   400000.0\n",
       "1           1  Bakenda Michel    52220  Homme   33    43000.0\n",
       "2           2     Fally Ipupa  1800000  Homme   41  2000000.0"
      ]
     },
     "execution_count": 21,
     "metadata": {},
     "output_type": "execute_result"
    }
   ],
   "source": [
    "df.head(3) #affiche les n premiers enregistrements"
   ]
  },
  {
   "cell_type": "code",
   "execution_count": 22,
   "id": "ca1a17d4-65cf-416d-814e-d0a70c6ef048",
   "metadata": {},
   "outputs": [
    {
     "data": {
      "text/plain": [
       "Unnamed: 0      int64\n",
       "Artiste        object\n",
       "Vues            int64\n",
       "Genre          object\n",
       "Age             int64\n",
       "Fortune       float64\n",
       "dtype: object"
      ]
     },
     "execution_count": 22,
     "metadata": {},
     "output_type": "execute_result"
    }
   ],
   "source": [
    "\n",
    "df.dtypes"
   ]
  },
  {
   "cell_type": "code",
   "execution_count": 23,
   "id": "cbebbf50-7bab-4a69-9add-cb37e3ac3e0a",
   "metadata": {},
   "outputs": [
    {
     "data": {
      "text/plain": [
       "dtype('O')"
      ]
     },
     "execution_count": 23,
     "metadata": {},
     "output_type": "execute_result"
    }
   ],
   "source": [
    "df2 = df.Fortune.astype(str)\n",
    "df2.dtypes"
   ]
  },
  {
   "cell_type": "code",
   "execution_count": 24,
   "id": "52e6782a-61bc-4281-b02a-184835120102",
   "metadata": {},
   "outputs": [
    {
     "data": {
      "text/plain": [
       "Unnamed: 0      int64\n",
       "Artiste        object\n",
       "Vues            int64\n",
       "Genre          object\n",
       "Age             int64\n",
       "Fortune       float64\n",
       "dtype: object"
      ]
     },
     "execution_count": 24,
     "metadata": {},
     "output_type": "execute_result"
    }
   ],
   "source": [
    "df.dtypes"
   ]
  },
  {
   "cell_type": "code",
   "execution_count": 22,
   "id": "d5233e94-0dcd-4b8d-8835-b2962eefbffd",
   "metadata": {},
   "outputs": [
    {
     "data": {
      "text/plain": [
       "dtype('float64')"
      ]
     },
     "execution_count": 22,
     "metadata": {},
     "output_type": "execute_result"
    }
   ],
   "source": [
    "df2 = pd.to_numeric(df.Fortune)\n",
    "df2.dtypes"
   ]
  },
  {
   "cell_type": "markdown",
   "id": "a17fb8ec-19ea-42a1-a6fd-ce907a4206ed",
   "metadata": {},
   "source": [
    "Conversion float en int\n"
   ]
  },
  {
   "cell_type": "code",
   "execution_count": 25,
   "id": "b09a47a9-3d47-42b5-9484-975b02b4cb3b",
   "metadata": {},
   "outputs": [
    {
     "data": {
      "text/plain": [
       "Unnamed: 0      int64\n",
       "Artiste        object\n",
       "Vues            int64\n",
       "Genre          object\n",
       "Age             int64\n",
       "Fortune       float64\n",
       "dtype: object"
      ]
     },
     "metadata": {},
     "output_type": "display_data"
    },
    {
     "data": {
      "text/plain": [
       "dtype('int32')"
      ]
     },
     "metadata": {},
     "output_type": "display_data"
    }
   ],
   "source": [
    "df2 = df.Fortune.astype(int)\n",
    "display(df.dtypes)\n",
    "display(df2.dtypes)"
   ]
  },
  {
   "cell_type": "code",
   "execution_count": 26,
   "id": "078aa727-08d9-4b49-b728-59710f09884e",
   "metadata": {},
   "outputs": [
    {
     "data": {
      "text/plain": [
       "Unnamed: 0     int64\n",
       "Artiste       object\n",
       "Vues           int64\n",
       "Genre         object\n",
       "Age            int64\n",
       "Fortune        int32\n",
       "dtype: object"
      ]
     },
     "execution_count": 26,
     "metadata": {},
     "output_type": "execute_result"
    }
   ],
   "source": [
    "df.Fortune = df.Fortune.astype(int)\n",
    "df.to_csv('assets/fortuneInt.csv')\n",
    "df.dtypes"
   ]
  },
  {
   "cell_type": "code",
   "execution_count": null,
   "id": "4be55f10-0c84-4de7-a83c-454e5f89b345",
   "metadata": {},
   "outputs": [],
   "source": []
  }
 ],
 "metadata": {
  "kernelspec": {
   "display_name": "Python 3 (ipykernel)",
   "language": "python",
   "name": "python3"
  },
  "language_info": {
   "codemirror_mode": {
    "name": "ipython",
    "version": 3
   },
   "file_extension": ".py",
   "mimetype": "text/x-python",
   "name": "python",
   "nbconvert_exporter": "python",
   "pygments_lexer": "ipython3",
   "version": "3.9.7"
  }
 },
 "nbformat": 4,
 "nbformat_minor": 5
}
