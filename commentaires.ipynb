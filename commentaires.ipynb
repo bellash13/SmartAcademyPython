{
 "cells": [
  {
   "cell_type": "code",
   "execution_count": 3,
   "id": "9273b26c-a906-4b71-8f55-4712a24d4600",
   "metadata": {},
   "outputs": [
    {
     "name": "stdout",
     "output_type": "stream",
     "text": [
      "Bonjour cher utilisateur\n"
     ]
    }
   ],
   "source": [
    "def direBonjour():\n",
    "    '''Fonction pour dire bonjour à l'utilisateur :\n",
    "    cette fonction va afficher un message sympa à l'écran'''\n",
    "    \n",
    "    print(\"Bonjour cher utilisateur\")\n",
    "\n",
    "#J'appelle la fonction direBonjour ici\n",
    "direBonjour()"
   ]
  },
  {
   "cell_type": "code",
   "execution_count": null,
   "id": "dad681a6-1056-4d3c-9fab-bb7e74bd967a",
   "metadata": {},
   "outputs": [],
   "source": []
  },
  {
   "cell_type": "code",
   "execution_count": null,
   "id": "c4214db7-b106-4a81-b5c4-2e0efbbf5de6",
   "metadata": {},
   "outputs": [],
   "source": []
  }
 ],
 "metadata": {
  "kernelspec": {
   "display_name": "Python 3 (ipykernel)",
   "language": "python",
   "name": "python3"
  },
  "language_info": {
   "codemirror_mode": {
    "name": "ipython",
    "version": 3
   },
   "file_extension": ".py",
   "mimetype": "text/x-python",
   "name": "python",
   "nbconvert_exporter": "python",
   "pygments_lexer": "ipython3",
   "version": "3.9.7"
  }
 },
 "nbformat": 4,
 "nbformat_minor": 5
}
